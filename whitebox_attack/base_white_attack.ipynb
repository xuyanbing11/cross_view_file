{
 "cells": [
  {
   "cell_type": "code",
   "execution_count": 1,
   "id": "52b0795c",
   "metadata": {
    "ExecutionIndicator": {
     "show": true
    },
    "execution": {
     "iopub.execute_input": "2025-07-17T06:58:10.927473Z",
     "iopub.status.busy": "2025-07-17T06:58:10.927363Z",
     "iopub.status.idle": "2025-07-17T06:58:13.083951Z",
     "shell.execute_reply": "2025-07-17T06:58:13.083531Z",
     "shell.execute_reply.started": "2025-07-17T06:58:10.927461Z"
    },
    "tags": []
   },
   "outputs": [],
   "source": [
    "import argparse\n",
    "import numpy as np\n",
    "from pprint import pprint\n",
    "from tqdm import tqdm\n",
    "from PIL import Image\n",
    "import matplotlib.pyplot as plt\n",
    "import torch.optim as optim\n",
    "import torch\n",
    "import torch.nn as nn\n",
    "import torch.nn.functional as F\n",
    "from torch.autograd import grad\n",
    "import torchvision\n",
    "from torchvision import models, datasets, transforms\n",
    "# from utils import label_to_onehot, cross_entropy_for_onehot, pixelwise_euclidean_distance\n",
    "from whitebox_utils import label_to_onehot, cross_entropy_for_onehot, pixelwise_euclidean_distance"
   ]
  },
  {
   "cell_type": "code",
   "execution_count": 2,
   "id": "93045418",
   "metadata": {
    "execution": {
     "iopub.execute_input": "2025-07-17T06:58:13.085157Z",
     "iopub.status.busy": "2025-07-17T06:58:13.084880Z",
     "iopub.status.idle": "2025-07-17T06:58:13.105337Z",
     "shell.execute_reply": "2025-07-17T06:58:13.104777Z",
     "shell.execute_reply.started": "2025-07-17T06:58:13.085143Z"
    }
   },
   "outputs": [
    {
     "name": "stdout",
     "output_type": "stream",
     "text": [
      "Running on cuda\n",
      "2.3.1+cu121\n",
      "0.18.1+cu121\n"
     ]
    }
   ],
   "source": [
    "\n",
    "device = \"cpu\"\n",
    "if torch.cuda.is_available():\n",
    "    device = \"cuda\"\n",
    "print(\"Running on %s\" % device)\n",
    "print(torch.__version__)\n",
    "print(torchvision.__version__)"
   ]
  },
  {
   "cell_type": "code",
   "execution_count": 3,
   "id": "e027cb21",
   "metadata": {
    "execution": {
     "iopub.execute_input": "2025-07-17T06:58:13.106132Z",
     "iopub.status.busy": "2025-07-17T06:58:13.105869Z",
     "iopub.status.idle": "2025-07-17T06:58:13.109722Z",
     "shell.execute_reply": "2025-07-17T06:58:13.109238Z",
     "shell.execute_reply.started": "2025-07-17T06:58:13.106118Z"
    },
    "tags": []
   },
   "outputs": [
    {
     "name": "stdout",
     "output_type": "stream",
     "text": [
      "Received arguments: Namespace(index=30)\n"
     ]
    }
   ],
   "source": [
    "parser = argparse.ArgumentParser(description='Deep Leakage from Gradients.')\n",
    "parser.add_argument('--index', type=int, default=25,  \n",
    "                    help='the index for leaking images on GTSRB.')\n",
    "parser.add_argument('--image', type=str, default=\"\",  \n",
    "                    help='the path to customized image.')\n",
    "\n",
    "# 解析参数\n",
    "args = argparse.Namespace(index=30)\n",
    "print(\"Received arguments:\", args)"
   ]
  },
  {
   "cell_type": "code",
   "execution_count": 4,
   "id": "7ebb3936",
   "metadata": {
    "ExecutionIndicator": {
     "show": false
    },
    "execution": {
     "iopub.execute_input": "2025-07-17T06:58:13.110394Z",
     "iopub.status.busy": "2025-07-17T06:58:13.110174Z",
     "iopub.status.idle": "2025-07-17T06:59:02.164488Z",
     "shell.execute_reply": "2025-07-17T06:59:02.163552Z",
     "shell.execute_reply.started": "2025-07-17T06:58:13.110382Z"
    },
    "tags": []
   },
   "outputs": [
    {
     "name": "stdout",
     "output_type": "stream",
     "text": [
      "Downloading https://www.cs.toronto.edu/~kriz/cifar-10-python.tar.gz to /mnt/workspace/magazine/cifar-10-python.tar.gz\n"
     ]
    },
    {
     "name": "stderr",
     "output_type": "stream",
     "text": [
      "  1%|          | 950272/170498071 [00:43<2:10:43, 21616.50it/s]\n"
     ]
    },
    {
     "ename": "KeyboardInterrupt",
     "evalue": "",
     "output_type": "error",
     "traceback": [
      "\u001b[31m---------------------------------------------------------------------------\u001b[39m",
      "\u001b[31mKeyboardInterrupt\u001b[39m                         Traceback (most recent call last)",
      "\u001b[36mCell\u001b[39m\u001b[36m \u001b[39m\u001b[32mIn[4]\u001b[39m\u001b[32m, line 9\u001b[39m\n\u001b[32m      7\u001b[39m num_picture = \u001b[32m23\u001b[39m\n\u001b[32m      8\u001b[39m \u001b[38;5;66;03m# 加载GTSRB数据集\u001b[39;00m\n\u001b[32m----> \u001b[39m\u001b[32m9\u001b[39m dst = \u001b[43mdatasets\u001b[49m\u001b[43m.\u001b[49m\u001b[43mCIFAR10\u001b[49m\u001b[43m(\u001b[49m\u001b[43mroot\u001b[49m\u001b[43m=\u001b[49m\u001b[33;43m\"\u001b[39;49m\u001b[33;43m/mnt/workspace/magazine\u001b[39;49m\u001b[33;43m\"\u001b[39;49m\u001b[43m,\u001b[49m\u001b[43m \u001b[49m\u001b[43mdownload\u001b[49m\u001b[43m=\u001b[49m\u001b[38;5;28;43;01mTrue\u001b[39;49;00m\u001b[43m,\u001b[49m\u001b[43m \u001b[49m\u001b[43mtransform\u001b[49m\u001b[43m=\u001b[49m\u001b[43mtransform\u001b[49m\u001b[43m)\u001b[49m\n\u001b[32m     10\u001b[39m img_index = args.index\n\u001b[32m     11\u001b[39m gt_data = dst[img_index+num_picture][\u001b[32m0\u001b[39m].to(device)  \u001b[38;5;66;03m# 假设使用GPU，可按需调整\u001b[39;00m\n",
      "\u001b[36mFile \u001b[39m\u001b[32m/usr/local/lib/python3.11/site-packages/torchvision/datasets/cifar.py:66\u001b[39m, in \u001b[36mCIFAR10.__init__\u001b[39m\u001b[34m(self, root, train, transform, target_transform, download)\u001b[39m\n\u001b[32m     63\u001b[39m \u001b[38;5;28mself\u001b[39m.train = train  \u001b[38;5;66;03m# training set or test set\u001b[39;00m\n\u001b[32m     65\u001b[39m \u001b[38;5;28;01mif\u001b[39;00m download:\n\u001b[32m---> \u001b[39m\u001b[32m66\u001b[39m     \u001b[38;5;28;43mself\u001b[39;49m\u001b[43m.\u001b[49m\u001b[43mdownload\u001b[49m\u001b[43m(\u001b[49m\u001b[43m)\u001b[49m\n\u001b[32m     68\u001b[39m \u001b[38;5;28;01mif\u001b[39;00m \u001b[38;5;129;01mnot\u001b[39;00m \u001b[38;5;28mself\u001b[39m._check_integrity():\n\u001b[32m     69\u001b[39m     \u001b[38;5;28;01mraise\u001b[39;00m \u001b[38;5;167;01mRuntimeError\u001b[39;00m(\u001b[33m\"\u001b[39m\u001b[33mDataset not found or corrupted. You can use download=True to download it\u001b[39m\u001b[33m\"\u001b[39m)\n",
      "\u001b[36mFile \u001b[39m\u001b[32m/usr/local/lib/python3.11/site-packages/torchvision/datasets/cifar.py:140\u001b[39m, in \u001b[36mCIFAR10.download\u001b[39m\u001b[34m(self)\u001b[39m\n\u001b[32m    138\u001b[39m     \u001b[38;5;28mprint\u001b[39m(\u001b[33m\"\u001b[39m\u001b[33mFiles already downloaded and verified\u001b[39m\u001b[33m\"\u001b[39m)\n\u001b[32m    139\u001b[39m     \u001b[38;5;28;01mreturn\u001b[39;00m\n\u001b[32m--> \u001b[39m\u001b[32m140\u001b[39m \u001b[43mdownload_and_extract_archive\u001b[49m\u001b[43m(\u001b[49m\u001b[38;5;28;43mself\u001b[39;49m\u001b[43m.\u001b[49m\u001b[43murl\u001b[49m\u001b[43m,\u001b[49m\u001b[43m \u001b[49m\u001b[38;5;28;43mself\u001b[39;49m\u001b[43m.\u001b[49m\u001b[43mroot\u001b[49m\u001b[43m,\u001b[49m\u001b[43m \u001b[49m\u001b[43mfilename\u001b[49m\u001b[43m=\u001b[49m\u001b[38;5;28;43mself\u001b[39;49m\u001b[43m.\u001b[49m\u001b[43mfilename\u001b[49m\u001b[43m,\u001b[49m\u001b[43m \u001b[49m\u001b[43mmd5\u001b[49m\u001b[43m=\u001b[49m\u001b[38;5;28;43mself\u001b[39;49m\u001b[43m.\u001b[49m\u001b[43mtgz_md5\u001b[49m\u001b[43m)\u001b[49m\n",
      "\u001b[36mFile \u001b[39m\u001b[32m/usr/local/lib/python3.11/site-packages/torchvision/datasets/utils.py:395\u001b[39m, in \u001b[36mdownload_and_extract_archive\u001b[39m\u001b[34m(url, download_root, extract_root, filename, md5, remove_finished)\u001b[39m\n\u001b[32m    392\u001b[39m \u001b[38;5;28;01mif\u001b[39;00m \u001b[38;5;129;01mnot\u001b[39;00m filename:\n\u001b[32m    393\u001b[39m     filename = os.path.basename(url)\n\u001b[32m--> \u001b[39m\u001b[32m395\u001b[39m \u001b[43mdownload_url\u001b[49m\u001b[43m(\u001b[49m\u001b[43murl\u001b[49m\u001b[43m,\u001b[49m\u001b[43m \u001b[49m\u001b[43mdownload_root\u001b[49m\u001b[43m,\u001b[49m\u001b[43m \u001b[49m\u001b[43mfilename\u001b[49m\u001b[43m,\u001b[49m\u001b[43m \u001b[49m\u001b[43mmd5\u001b[49m\u001b[43m)\u001b[49m\n\u001b[32m    397\u001b[39m archive = os.path.join(download_root, filename)\n\u001b[32m    398\u001b[39m \u001b[38;5;28mprint\u001b[39m(\u001b[33mf\u001b[39m\u001b[33m\"\u001b[39m\u001b[33mExtracting \u001b[39m\u001b[38;5;132;01m{\u001b[39;00marchive\u001b[38;5;132;01m}\u001b[39;00m\u001b[33m to \u001b[39m\u001b[38;5;132;01m{\u001b[39;00mextract_root\u001b[38;5;132;01m}\u001b[39;00m\u001b[33m\"\u001b[39m)\n",
      "\u001b[36mFile \u001b[39m\u001b[32m/usr/local/lib/python3.11/site-packages/torchvision/datasets/utils.py:132\u001b[39m, in \u001b[36mdownload_url\u001b[39m\u001b[34m(url, root, filename, md5, max_redirect_hops)\u001b[39m\n\u001b[32m    130\u001b[39m \u001b[38;5;28;01mtry\u001b[39;00m:\n\u001b[32m    131\u001b[39m     \u001b[38;5;28mprint\u001b[39m(\u001b[33m\"\u001b[39m\u001b[33mDownloading \u001b[39m\u001b[33m\"\u001b[39m + url + \u001b[33m\"\u001b[39m\u001b[33m to \u001b[39m\u001b[33m\"\u001b[39m + fpath)\n\u001b[32m--> \u001b[39m\u001b[32m132\u001b[39m     \u001b[43m_urlretrieve\u001b[49m\u001b[43m(\u001b[49m\u001b[43murl\u001b[49m\u001b[43m,\u001b[49m\u001b[43m \u001b[49m\u001b[43mfpath\u001b[49m\u001b[43m)\u001b[49m\n\u001b[32m    133\u001b[39m \u001b[38;5;28;01mexcept\u001b[39;00m (urllib.error.URLError, \u001b[38;5;167;01mOSError\u001b[39;00m) \u001b[38;5;28;01mas\u001b[39;00m e:  \u001b[38;5;66;03m# type: ignore[attr-defined]\u001b[39;00m\n\u001b[32m    134\u001b[39m     \u001b[38;5;28;01mif\u001b[39;00m url[:\u001b[32m5\u001b[39m] == \u001b[33m\"\u001b[39m\u001b[33mhttps\u001b[39m\u001b[33m\"\u001b[39m:\n",
      "\u001b[36mFile \u001b[39m\u001b[32m/usr/local/lib/python3.11/site-packages/torchvision/datasets/utils.py:30\u001b[39m, in \u001b[36m_urlretrieve\u001b[39m\u001b[34m(url, filename, chunk_size)\u001b[39m\n\u001b[32m     28\u001b[39m \u001b[38;5;28;01mwith\u001b[39;00m urllib.request.urlopen(urllib.request.Request(url, headers={\u001b[33m\"\u001b[39m\u001b[33mUser-Agent\u001b[39m\u001b[33m\"\u001b[39m: USER_AGENT})) \u001b[38;5;28;01mas\u001b[39;00m response:\n\u001b[32m     29\u001b[39m     \u001b[38;5;28;01mwith\u001b[39;00m \u001b[38;5;28mopen\u001b[39m(filename, \u001b[33m\"\u001b[39m\u001b[33mwb\u001b[39m\u001b[33m\"\u001b[39m) \u001b[38;5;28;01mas\u001b[39;00m fh, tqdm(total=response.length) \u001b[38;5;28;01mas\u001b[39;00m pbar:\n\u001b[32m---> \u001b[39m\u001b[32m30\u001b[39m         \u001b[38;5;28;01mwhile\u001b[39;00m chunk := \u001b[43mresponse\u001b[49m\u001b[43m.\u001b[49m\u001b[43mread\u001b[49m\u001b[43m(\u001b[49m\u001b[43mchunk_size\u001b[49m\u001b[43m)\u001b[49m:\n\u001b[32m     31\u001b[39m             fh.write(chunk)\n\u001b[32m     32\u001b[39m             pbar.update(\u001b[38;5;28mlen\u001b[39m(chunk))\n",
      "\u001b[36mFile \u001b[39m\u001b[32m/usr/local/lib/python3.11/http/client.py:473\u001b[39m, in \u001b[36mHTTPResponse.read\u001b[39m\u001b[34m(self, amt)\u001b[39m\n\u001b[32m    470\u001b[39m \u001b[38;5;28;01mif\u001b[39;00m \u001b[38;5;28mself\u001b[39m.length \u001b[38;5;129;01mis\u001b[39;00m \u001b[38;5;129;01mnot\u001b[39;00m \u001b[38;5;28;01mNone\u001b[39;00m \u001b[38;5;129;01mand\u001b[39;00m amt > \u001b[38;5;28mself\u001b[39m.length:\n\u001b[32m    471\u001b[39m     \u001b[38;5;66;03m# clip the read to the \"end of response\"\u001b[39;00m\n\u001b[32m    472\u001b[39m     amt = \u001b[38;5;28mself\u001b[39m.length\n\u001b[32m--> \u001b[39m\u001b[32m473\u001b[39m s = \u001b[38;5;28mself\u001b[39m.fp.read(amt)\n\u001b[32m    474\u001b[39m \u001b[38;5;28;01mif\u001b[39;00m \u001b[38;5;129;01mnot\u001b[39;00m s \u001b[38;5;129;01mand\u001b[39;00m amt:\n\u001b[32m    475\u001b[39m     \u001b[38;5;66;03m# Ideally, we would raise IncompleteRead if the content-length\u001b[39;00m\n\u001b[32m    476\u001b[39m     \u001b[38;5;66;03m# wasn't satisfied, but it might break compatibility.\u001b[39;00m\n\u001b[32m    477\u001b[39m     \u001b[38;5;28mself\u001b[39m._close_conn()\n",
      "\u001b[36mFile \u001b[39m\u001b[32m/usr/local/lib/python3.11/socket.py:718\u001b[39m, in \u001b[36mSocketIO.readinto\u001b[39m\u001b[34m(self, b)\u001b[39m\n\u001b[32m    716\u001b[39m \u001b[38;5;28;01mwhile\u001b[39;00m \u001b[38;5;28;01mTrue\u001b[39;00m:\n\u001b[32m    717\u001b[39m     \u001b[38;5;28;01mtry\u001b[39;00m:\n\u001b[32m--> \u001b[39m\u001b[32m718\u001b[39m         \u001b[38;5;28;01mreturn\u001b[39;00m \u001b[38;5;28;43mself\u001b[39;49m\u001b[43m.\u001b[49m\u001b[43m_sock\u001b[49m\u001b[43m.\u001b[49m\u001b[43mrecv_into\u001b[49m\u001b[43m(\u001b[49m\u001b[43mb\u001b[49m\u001b[43m)\u001b[49m\n\u001b[32m    719\u001b[39m     \u001b[38;5;28;01mexcept\u001b[39;00m timeout:\n\u001b[32m    720\u001b[39m         \u001b[38;5;28mself\u001b[39m._timeout_occurred = \u001b[38;5;28;01mTrue\u001b[39;00m\n",
      "\u001b[36mFile \u001b[39m\u001b[32m/usr/local/lib/python3.11/ssl.py:1314\u001b[39m, in \u001b[36mSSLSocket.recv_into\u001b[39m\u001b[34m(self, buffer, nbytes, flags)\u001b[39m\n\u001b[32m   1310\u001b[39m     \u001b[38;5;28;01mif\u001b[39;00m flags != \u001b[32m0\u001b[39m:\n\u001b[32m   1311\u001b[39m         \u001b[38;5;28;01mraise\u001b[39;00m \u001b[38;5;167;01mValueError\u001b[39;00m(\n\u001b[32m   1312\u001b[39m           \u001b[33m\"\u001b[39m\u001b[33mnon-zero flags not allowed in calls to recv_into() on \u001b[39m\u001b[38;5;132;01m%s\u001b[39;00m\u001b[33m\"\u001b[39m %\n\u001b[32m   1313\u001b[39m           \u001b[38;5;28mself\u001b[39m.\u001b[34m__class__\u001b[39m)\n\u001b[32m-> \u001b[39m\u001b[32m1314\u001b[39m     \u001b[38;5;28;01mreturn\u001b[39;00m \u001b[38;5;28;43mself\u001b[39;49m\u001b[43m.\u001b[49m\u001b[43mread\u001b[49m\u001b[43m(\u001b[49m\u001b[43mnbytes\u001b[49m\u001b[43m,\u001b[49m\u001b[43m \u001b[49m\u001b[43mbuffer\u001b[49m\u001b[43m)\u001b[49m\n\u001b[32m   1315\u001b[39m \u001b[38;5;28;01melse\u001b[39;00m:\n\u001b[32m   1316\u001b[39m     \u001b[38;5;28;01mreturn\u001b[39;00m \u001b[38;5;28msuper\u001b[39m().recv_into(buffer, nbytes, flags)\n",
      "\u001b[36mFile \u001b[39m\u001b[32m/usr/local/lib/python3.11/ssl.py:1166\u001b[39m, in \u001b[36mSSLSocket.read\u001b[39m\u001b[34m(self, len, buffer)\u001b[39m\n\u001b[32m   1164\u001b[39m \u001b[38;5;28;01mtry\u001b[39;00m:\n\u001b[32m   1165\u001b[39m     \u001b[38;5;28;01mif\u001b[39;00m buffer \u001b[38;5;129;01mis\u001b[39;00m \u001b[38;5;129;01mnot\u001b[39;00m \u001b[38;5;28;01mNone\u001b[39;00m:\n\u001b[32m-> \u001b[39m\u001b[32m1166\u001b[39m         \u001b[38;5;28;01mreturn\u001b[39;00m \u001b[38;5;28;43mself\u001b[39;49m\u001b[43m.\u001b[49m\u001b[43m_sslobj\u001b[49m\u001b[43m.\u001b[49m\u001b[43mread\u001b[49m\u001b[43m(\u001b[49m\u001b[38;5;28;43mlen\u001b[39;49m\u001b[43m,\u001b[49m\u001b[43m \u001b[49m\u001b[43mbuffer\u001b[49m\u001b[43m)\u001b[49m\n\u001b[32m   1167\u001b[39m     \u001b[38;5;28;01melse\u001b[39;00m:\n\u001b[32m   1168\u001b[39m         \u001b[38;5;28;01mreturn\u001b[39;00m \u001b[38;5;28mself\u001b[39m._sslobj.read(\u001b[38;5;28mlen\u001b[39m)\n",
      "\u001b[31mKeyboardInterrupt\u001b[39m: "
     ]
    }
   ],
   "source": [
    "\n",
    "tt = transforms.ToTensor()#转发为张量\n",
    "tp = transforms.ToPILImage()#转换为图片\n",
    "transform = transforms.Compose([\n",
    "    transforms.Resize((32, 32)),\n",
    "    transforms.ToTensor()\n",
    "])\n",
    "num_picture = 23\n",
    "# 加载GTSRB数据集\n",
    "# dst = datasets.CIFAR10(root=\"/mnt/workspace/magazine\", download=True, transform=transform)\n",
    "\n",
    "# img_index = args.index\n",
    "# gt_data = dst[img_index+num_picture][0].to(device)  # 假设使用GPU，可按需调整\n",
    "# gt_data = gt_data.view(1, *gt_data.size())  \n",
    "# gt_label = torch.tensor([dst[img_index+num_picture][1]]).long().to(device)\n",
    "# gt_label = gt_label.view(1, )\n",
    "# gt_onehot_label = label_to_onehot(gt_label)\n",
    "target_path = '/mnt/workspace/magazine/cat.png'\n",
    "\n",
    "\n",
    "\n",
    "plt.imshow(tp(gt_data[0].cpu()))\n",
    "plt.show()\n",
    "print(gt_data.shape)"
   ]
  },
  {
   "cell_type": "code",
   "execution_count": null,
   "id": "4c3823f8",
   "metadata": {
    "execution": {
     "iopub.status.busy": "2025-07-17T06:59:02.164930Z",
     "iopub.status.idle": "2025-07-17T06:59:02.165243Z",
     "shell.execute_reply": "2025-07-17T06:59:02.165155Z",
     "shell.execute_reply.started": "2025-07-17T06:59:02.165140Z"
    }
   },
   "outputs": [],
   "source": [
    "print(gt_data.shape)\n",
    "dummy_data = torch.randn(gt_data.size()).to(device).requires_grad_(True)#形状为（1，c，h，w）\n",
    "dummy_label = torch.randn(gt_onehot_label.size()).to(device).requires_grad_(True)\n",
    "plt.imshow(tp(dummy_data[0].cpu()))\n",
    "plt.show()"
   ]
  },
  {
   "cell_type": "code",
   "execution_count": null,
   "id": "d384fa6c",
   "metadata": {
    "execution": {
     "iopub.status.busy": "2025-07-17T06:59:02.165885Z",
     "iopub.status.idle": "2025-07-17T06:59:02.166081Z",
     "shell.execute_reply": "2025-07-17T06:59:02.166005Z",
     "shell.execute_reply.started": "2025-07-17T06:59:02.165997Z"
    }
   },
   "outputs": [],
   "source": [
    "print(dummy_data.size())\n",
    "# 总变差函数,输入dummy图像\n",
    "def _tensor_size(t):\n",
    "    return t.size()[1]*t.size()[2]*t.size()[3]\n",
    "def total_variation(x):\n",
    "    batch_size = x.size()[0]\n",
    "    h_x = x.size()[2]\n",
    "    w_x = x.size()[3]\n",
    "    count_h = _tensor_size(x[:,:,1:,:])\n",
    "    count_w = _tensor_size(x[:,:,:,1:])\n",
    "    h_tv = torch.pow(x[:,:,1:,:]-x[:,:,:h_x-1,:], 2).sum()\n",
    "    w_tv = torch.pow(x[:,:,:,1:]-x[:,:,:,:w_x-1], 2).sum()\n",
    "    return (h_tv / count_h + w_tv / count_w) / batch_size\n",
    "\n",
    "# def loss_function_1(X_cut, X0_cut,tv, lambda_param=0.4):\n",
    "\n",
    "#     euclidean_dist = pixelwise_euclidean_distance(X_cut, X0_cut)\n",
    "    \n",
    "#     return euclidean_dist + lambda_param * tv"
   ]
  },
  {
   "cell_type": "code",
   "execution_count": null,
   "id": "1dbd50fe",
   "metadata": {
    "execution": {
     "iopub.status.busy": "2025-07-17T06:59:02.166477Z",
     "iopub.status.idle": "2025-07-17T06:59:02.166644Z",
     "shell.execute_reply": "2025-07-17T06:59:02.166561Z",
     "shell.execute_reply.started": "2025-07-17T06:59:02.166555Z"
    }
   },
   "outputs": [],
   "source": [
    "\n",
    "from models.vision import weights_init\n",
    "class VGG9(nn.Module):\n",
    "    def __init__(self, num_classes, sp=4, in_channels=3, fig_size=32):####sp为切割点\n",
    "        assert sp<=17 and sp>0\n",
    "        super(VGG9, self).__init__()\n",
    "        cfg = [32, 64, 128, 128, 256, 256, 512, 512]\n",
    "        self.conv1 = nn.Conv2d(in_channels,  cfg[0], 3, 1, 1)\n",
    "        self.conv2 = nn.Conv2d(cfg[0], cfg[1], 3, 1, 1)\n",
    "        self.conv3 = nn.Conv2d(cfg[1], cfg[2], 3, 1, 1)\n",
    "        self.conv4 = nn.Conv2d(cfg[2], cfg[3], 3, 1, 1)\n",
    "        self.conv5 = nn.Conv2d(cfg[3], cfg[4], 3, 1, 1)\n",
    "        self.conv6 = nn.Conv2d(cfg[4], cfg[5], 3, 1, 1)\n",
    "        self.fc1   = nn.Linear(int((fig_size/8)**2)*cfg[5], cfg[6])\n",
    "        self.fc2   = nn.Linear(cfg[6], cfg[7])\n",
    "        self.fc3   = nn.Linear(cfg[7], num_classes)\n",
    "        self.total_module_list = [self.conv1, self.conv2, nn.ReLU(), nn.MaxPool2d(2, 2), \n",
    "                                self.conv3, self.conv4, nn.ReLU(), nn.MaxPool2d(2, 2),\n",
    "                                self.conv5, self.conv6, nn.ReLU(), nn.MaxPool2d(2, 2),\n",
    "                               nn.Flatten(1), self.fc1, nn.ReLU(), self.fc2, nn.ReLU(), self.fc3]\n",
    "        self.f = nn.Sequential(*self.total_module_list[0:sp])\n",
    "        self.g = nn.Sequential(*self.total_module_list[sp:])\n",
    "\n",
    "    def forward(self, x):\n",
    "        x_1 = self.f(x)\n",
    "        x_cut = x_1.detach().clone()\n",
    "        x_out = self.g(x_1)\n",
    "        return x_out, x_cut\n",
    "\n",
    "net = VGG9(num_classes=10).to(device)#模型名字\n"
   ]
  },
  {
   "cell_type": "code",
   "execution_count": null,
   "id": "5231a5a4",
   "metadata": {
    "execution": {
     "iopub.status.busy": "2025-07-17T06:59:02.167070Z",
     "iopub.status.idle": "2025-07-17T06:59:02.167226Z",
     "shell.execute_reply": "2025-07-17T06:59:02.167159Z",
     "shell.execute_reply.started": "2025-07-17T06:59:02.167143Z"
    }
   },
   "outputs": [],
   "source": [
    "#optimizer.zero_grad()  # 清空梯度\n",
    "torch.manual_seed(1234)\n",
    "\n",
    "net.apply(weights_init)\n",
    "criterion = cross_entropy_for_onehot\n",
    "\n",
    "# compute original gradient \n",
    "original_cut = net.f(gt_data)\n",
    "ture_cut= original_cut.detach().clone()\n",
    "#print(original_cut)\n",
    "# original_loss = criterion(pred, gt_onehot_label)\n",
    "# dy_dx = torch.autograd.grad(original_loss, net.parameters(), retain_graph=True)\n",
    "\n",
    "#original_dy_dx = list((_.detach().clone() for _ in dy_dx))\n"
   ]
  },
  {
   "cell_type": "code",
   "execution_count": null,
   "id": "b677b277",
   "metadata": {
    "execution": {
     "iopub.status.busy": "2025-07-17T06:59:02.167586Z",
     "iopub.status.idle": "2025-07-17T06:59:02.167741Z",
     "shell.execute_reply": "2025-07-17T06:59:02.167673Z",
     "shell.execute_reply.started": "2025-07-17T06:59:02.167667Z"
    }
   },
   "outputs": [],
   "source": [
    "print(dummy_data.size)\n",
    "print(dummy_data.shape)\n",
    "#print(original_loss)\n",
    "#print(dy_dx)"
   ]
  },
  {
   "cell_type": "code",
   "execution_count": null,
   "id": "c7466cb8",
   "metadata": {
    "execution": {
     "iopub.status.busy": "2025-07-17T06:59:02.168191Z",
     "iopub.status.idle": "2025-07-17T06:59:02.168337Z",
     "shell.execute_reply": "2025-07-17T06:59:02.168272Z",
     "shell.execute_reply.started": "2025-07-17T06:59:02.168266Z"
    },
    "scrolled": true
   },
   "outputs": [],
   "source": [
    "T = 20000\n",
    "lr = 0.001\n",
    "optimizer = torch.optim.Adam([dummy_data], lr=lr)\n",
    "range_T = tqdm(range(1, T+1), desc=\"White-box attacking...\")\n",
    "epsilon=1e-6\n",
    "l0 = 1e-3\n",
    "l1 = 1\n",
    "l2 = 1e-3\n",
    "history = []\n",
    "\n",
    "\n",
    "for iters in range_T:\n",
    "    optimizer.zero_grad()  # 清空梯度\n",
    "        # 使用网络对虚拟数据进行预测\n",
    "    dummy_cut = net.f(dummy_data)\n",
    "    tv = total_variation(dummy_data)\n",
    "    diff_cut = torch.norm((dummy_cut[ture_cut.abs()>epsilon]- ture_cut[ture_cut.abs()>epsilon]), p=2)\n",
    "    loss_1 = l0*torch.norm(dummy_data-torch.clamp(dummy_data, min=0, max=1))\n",
    "    loss_2 = l2*torch.norm(dummy_cut[ture_cut.abs()<epsilon])\n",
    "    dummy_loss = diff_cut +tv*l1+l0*loss_1 + l0*loss_2\n",
    "        \n",
    "        #dummy_dcut_dx = torch.autograd.grad(dummy_loss, net.parameters(), create_graph=True, retain_graph=True, allow_unused=True)\n",
    "    dummy_loss.backward()\n",
    "    optimizer.step()  # 进行dummy_data参数更新\n",
    "    #dummy_loss, dummy_dcut_dx = closure()\n",
    "   \n",
    "    if iters % 1000 == 0: ##打印损失\n",
    "        current_loss= dummy_loss#closure(dummy_data)\n",
    "        #print(iters, \"%.4f\" % current_loss.item())\n",
    "        history.append(tp(dummy_data[0].cpu()))\n",
    "        print(\"dummy_loss value:\",current_loss)\n",
    "plt.figure(figsize=(12, 8))\n",
    "for i in range(20):\n",
    "    plt.subplot(2, 10, i + 1)\n",
    "    plt.imshow(history[i])\n",
    "    plt.title(\"虚拟图片展示（iter=%d)\" % (i * 1000))\n",
    "    plt.axis('off')\n",
    "\n",
    "plt.show()\n"
   ]
  },
  {
   "cell_type": "code",
   "execution_count": null,
   "id": "f2cd1032",
   "metadata": {
    "execution": {
     "iopub.status.busy": "2025-07-17T06:59:02.168716Z",
     "iopub.status.idle": "2025-07-17T06:59:02.168877Z",
     "shell.execute_reply": "2025-07-17T06:59:02.168801Z",
     "shell.execute_reply.started": "2025-07-17T06:59:02.168795Z"
    },
    "scrolled": true
   },
   "outputs": [],
   "source": [
    "tt = transforms.ToTensor()#转发为张量\n",
    "tp = transforms.ToPILImage()#转换为图片\n",
    "def image2prob(image_dummy):\n",
    "    image_dummy_tensor = tt(image_dummy)\n",
    "    # 计算三通道总和并对每个通道分别归一化\n",
    "    total_sum = image_dummy_tensor.sum(dim=(1, 2))\n",
    "    image_dummy_norm = image_dummy_tensor / total_sum.view(-1, 1, 1)\n",
    "    dummy_prob = F.softmax(image_dummy_norm.view(-1), dim=0)\n",
    "    return dummy_prob\n",
    "temp_good = 1\n",
    "kl_list = []\n",
    "attack_image = dummy_data.detach().clone()\n",
    "ture_prob = image2prob(tp(gt_data[0]))\n",
    "for index, image_dummy in enumerate(history):\n",
    "    dummy_prob = image2prob(image_dummy)\n",
    "    \n",
    "    kl_div = F.kl_div(ture_prob.log(), dummy_prob, reduction='batchmean')\n",
    "    kl_div = torch.abs(kl_div)\n",
    "    kl_list.append(kl_div.cpu())\n",
    "    if kl_div < temp_good:\n",
    "        temp_good = kl_div\n",
    "        attack_image = image_dummy\n",
    "        attack_image_index = index\n",
    "print(attack_image_index)\n",
    "print(kl_list)\n",
    "\n",
    "plt.imshow(attack_image)\n",
    "plt.show()"
   ]
  },
  {
   "cell_type": "code",
   "execution_count": null,
   "id": "1bb44cc9",
   "metadata": {
    "execution": {
     "iopub.status.busy": "2025-07-17T06:59:02.169325Z",
     "iopub.status.idle": "2025-07-17T06:59:02.169467Z",
     "shell.execute_reply": "2025-07-17T06:59:02.169402Z",
     "shell.execute_reply.started": "2025-07-17T06:59:02.169396Z"
    }
   },
   "outputs": [],
   "source": [
    "import math\n",
    "c = kl_list[0]\n",
    "landa = 0.5\n",
    "kl_model = []\n",
    "for temp_2 in range(1, len(kl_list)):\n",
    "    kl_temp = 1-kl_list[temp_2]/c\n",
    "    \n",
    "    kl_1 = abs(math.log(1+landa*kl_temp,2))\n",
    "    print(kl_1)\n",
    "    kl_model.append(kl_1)"
   ]
  },
  {
   "cell_type": "code",
   "execution_count": null,
   "id": "9ff8d53f",
   "metadata": {
    "execution": {
     "iopub.status.busy": "2025-07-17T06:59:02.169797Z",
     "iopub.status.idle": "2025-07-17T06:59:02.169933Z",
     "shell.execute_reply": "2025-07-17T06:59:02.169871Z",
     "shell.execute_reply.started": "2025-07-17T06:59:02.169864Z"
    }
   },
   "outputs": [],
   "source": [
    "tt = transforms.ToTensor()#转发为张量\n",
    "tp = transforms.ToPILImage()#转换为图片\n",
    "def image2prob(image_dummy):\n",
    "    image_dummy_tensor = tt(image_dummy)\n",
    "    # 计算三通道总和并对每个通道分别归一化\n",
    "    total_sum = image_dummy_tensor.sum(dim=(1, 2))\n",
    "    image_dummy_norm = image_dummy_tensor / total_sum.view(-1, 1, 1)\n",
    "    dummy_prob = F.softmax(image_dummy_norm.view(-1), dim=0)\n",
    "    return dummy_prob\n",
    "temp_good = 1\n",
    "attack_image = dummy_data.detach().clone()\n",
    "#print(type(gt_data))\n",
    "image_dummy = history[9]\n",
    "dummy_prob = image2prob(image_dummy)\n",
    "ture_prob = image2prob(tp(gt_data[0]))\n",
    "kl_div = F.kl_div(ture_prob.log(), dummy_prob, reduction='batchmean')\n",
    "if kl_div < temp_good:\n",
    "    temp_good = kl_div\n",
    "    attack_image = image_dummy\n",
    "plt.imshow(attack_image)\n",
    "plt.show()"
   ]
  },
  {
   "cell_type": "code",
   "execution_count": null,
   "id": "5c1beaaf",
   "metadata": {
    "execution": {
     "iopub.status.busy": "2025-07-17T06:59:02.170335Z",
     "iopub.status.idle": "2025-07-17T06:59:02.170487Z",
     "shell.execute_reply": "2025-07-17T06:59:02.170413Z",
     "shell.execute_reply.started": "2025-07-17T06:59:02.170407Z"
    }
   },
   "outputs": [],
   "source": [
    "print(kl_div)"
   ]
  },
  {
   "cell_type": "code",
   "execution_count": null,
   "id": "f8ef7d86",
   "metadata": {
    "execution": {
     "iopub.status.busy": "2025-07-17T06:59:02.170999Z",
     "iopub.status.idle": "2025-07-17T06:59:02.171176Z",
     "shell.execute_reply": "2025-07-17T06:59:02.171096Z",
     "shell.execute_reply.started": "2025-07-17T06:59:02.171089Z"
    }
   },
   "outputs": [],
   "source": [
    "tt = transforms.ToTensor()#转发为张量\n",
    "tp = transforms.ToPILImage()#转换为图片\n",
    "text_data = torch.randn(gt_data.size()).to(device)#形状为（1，c，h，w）\n",
    "text_prob = image2prob(tp(text_data[0]))\n",
    "ture_prob = image2prob(tp(gt_data[0]))\n",
    "kl_div = F.kl_div(ture_prob.log(), text_prob, reduction='batchmean')\n",
    "print(kl_div)"
   ]
  },
  {
   "cell_type": "code",
   "execution_count": null,
   "id": "a98c1667",
   "metadata": {
    "execution": {
     "iopub.status.busy": "2025-07-17T06:59:02.171604Z",
     "iopub.status.idle": "2025-07-17T06:59:02.171772Z",
     "shell.execute_reply": "2025-07-17T06:59:02.171699Z",
     "shell.execute_reply.started": "2025-07-17T06:59:02.171692Z"
    }
   },
   "outputs": [],
   "source": [
    "attack_list = [3.6107, 10.803, 30.751, 114.85, 967.5]\n",
    "max_num = 2182.4\n",
    "attack_list = [item/max_num for item in attack_list]\n",
    "import matplotlib.pyplot as plt\n",
    "bar_width = 0.35\n",
    "r1 = range(len(attack_list))\n",
    "\n",
    "\n",
    "plt.bar(r1, attack_list, width=bar_width, label='KL', color='blue')\n",
    "\n",
    "plt.xlabel('Setpoint')\n",
    "plt.ylabel('kl')\n",
    "plt.title('kl vs Setpoint')\n",
    "plt.legend()\n",
    "plt.show()"
   ]
  },
  {
   "cell_type": "code",
   "execution_count": null,
   "id": "371d4a02",
   "metadata": {},
   "outputs": [],
   "source": []
  }
 ],
 "metadata": {
  "kernelspec": {
   "display_name": "Python 3 (ipykernel)",
   "language": "python",
   "name": "python3"
  },
  "language_info": {
   "codemirror_mode": {
    "name": "ipython",
    "version": 3
   },
   "file_extension": ".py",
   "mimetype": "text/x-python",
   "name": "python",
   "nbconvert_exporter": "python",
   "pygments_lexer": "ipython3",
   "version": "3.11.11"
  }
 },
 "nbformat": 4,
 "nbformat_minor": 5
}
