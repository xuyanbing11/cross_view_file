{
 "cells": [
  {
   "cell_type": "code",
   "execution_count": 1,
   "id": "3a7aaff6-cf10-4ae6-b090-d6c90984bd01",
   "metadata": {
    "ExecutionIndicator": {
     "show": true
    },
    "execution": {
     "iopub.execute_input": "2025-07-17T08:08:25.447171Z",
     "iopub.status.busy": "2025-07-17T08:08:25.447067Z",
     "iopub.status.idle": "2025-07-17T08:08:27.797600Z",
     "shell.execute_reply": "2025-07-17T08:08:27.796722Z",
     "shell.execute_reply.started": "2025-07-17T08:08:25.447159Z"
    },
    "tags": []
   },
   "outputs": [
    {
     "ename": "ModuleNotFoundError",
     "evalue": "No module named 'whitebox_utils'",
     "output_type": "error",
     "traceback": [
      "\u001b[31m---------------------------------------------------------------------------\u001b[39m",
      "\u001b[31mModuleNotFoundError\u001b[39m                       Traceback (most recent call last)",
      "\u001b[36mCell\u001b[39m\u001b[36m \u001b[39m\u001b[32mIn[1]\u001b[39m\u001b[32m, line 14\u001b[39m\n\u001b[32m     12\u001b[39m \u001b[38;5;28;01mfrom\u001b[39;00m\u001b[38;5;250m \u001b[39m\u001b[34;01mtorchvision\u001b[39;00m\u001b[38;5;250m \u001b[39m\u001b[38;5;28;01mimport\u001b[39;00m datasets, transforms\n\u001b[32m     13\u001b[39m \u001b[38;5;28;01mimport\u001b[39;00m\u001b[38;5;250m \u001b[39m\u001b[34;01mos\u001b[39;00m\n\u001b[32m---> \u001b[39m\u001b[32m14\u001b[39m \u001b[38;5;28;01mfrom\u001b[39;00m\u001b[38;5;250m \u001b[39m\u001b[34;01mwhitebox_utils\u001b[39;00m\u001b[38;5;250m \u001b[39m\u001b[38;5;28;01mimport\u001b[39;00m label_to_onehot, cross_entropy_for_onehot, pixelwise_euclidean_distance\n\u001b[32m     15\u001b[39m \u001b[38;5;28;01mimport\u001b[39;00m\u001b[38;5;250m \u001b[39m\u001b[34;01mmatplotlib\u001b[39;00m\u001b[34;01m.\u001b[39;00m\u001b[34;01mpyplot\u001b[39;00m\u001b[38;5;250m \u001b[39m\u001b[38;5;28;01mas\u001b[39;00m\u001b[38;5;250m \u001b[39m\u001b[34;01mplt\u001b[39;00m\n\u001b[32m     17\u001b[39m \u001b[38;5;66;03m# 指定使用文泉驿微米黑（系统已识别的字体名称）\u001b[39;00m\n",
      "\u001b[31mModuleNotFoundError\u001b[39m: No module named 'whitebox_utils'"
     ]
    }
   ],
   "source": [
    "import argparse\n",
    "import numpy as np\n",
    "from pprint import pprint\n",
    "from tqdm import tqdm\n",
    "from PIL import Image\n",
    "import matplotlib.pyplot as plt\n",
    "import torch.optim as optim\n",
    "import torch\n",
    "import torch.nn as nn\n",
    "import torch.nn.functional as F\n",
    "from torch.autograd import grad\n",
    "from torchvision import datasets, transforms\n",
    "import os\n",
    "from whitebox_utils import label_to_onehot, cross_entropy_for_onehot, pixelwise_euclidean_distance\n",
    "import matplotlib.pyplot as plt\n",
    "\n",
    "# 指定使用文泉驿微米黑（系统已识别的字体名称）\n",
    "plt.rcParams['font.sans-serif'] = ['WenQuanYi Micro Hei']  \n",
    "# 解决负号显示为方块的问题\n",
    "plt.rcParams['axes.unicode_minus'] = False  "
   ]
  },
  {
   "cell_type": "code",
   "execution_count": null,
   "id": "3b526d37-e7b1-436f-876b-1dbc48b2edbe",
   "metadata": {
    "execution": {
     "iopub.status.busy": "2025-07-17T08:08:27.798062Z",
     "iopub.status.idle": "2025-07-17T08:08:27.798228Z",
     "shell.execute_reply": "2025-07-17T08:08:27.798154Z",
     "shell.execute_reply.started": "2025-07-17T08:08:27.798146Z"
    }
   },
   "outputs": [],
   "source": [
    "device = \"cpu\"\n",
    "if torch.cuda.is_available():\n",
    "    device = \"cuda\"\n",
    "tt = transforms.ToTensor()#转发为张量\n",
    "tp = transforms.ToPILImage()#转换为图片\n"
   ]
  },
  {
   "cell_type": "code",
   "execution_count": null,
   "id": "2799ac1a-6444-4571-9854-ea3ab54dbac8",
   "metadata": {
    "ExecutionIndicator": {
     "show": true
    },
    "execution": {
     "iopub.status.busy": "2025-07-17T08:08:27.798974Z",
     "iopub.status.idle": "2025-07-17T08:08:27.799230Z",
     "shell.execute_reply": "2025-07-17T08:08:27.799154Z",
     "shell.execute_reply.started": "2025-07-17T08:08:27.799145Z"
    },
    "tags": []
   },
   "outputs": [],
   "source": [
    "batchsize = 1\n",
    "h, w = 384, 384\n",
    "pad = 10\n",
    "\n",
    "# 定义预处理流程\n",
    "transform_list = [\n",
    "    transforms.Resize((h, w), interpolation=3),\n",
    "    transforms.Pad(pad, padding_mode='edge'),\n",
    "    transforms.RandomCrop((h, w)),\n",
    "    transforms.RandomHorizontalFlip(),\n",
    "    transforms.ToTensor(),\n",
    "    transforms.Normalize([0.485, 0.456, 0.406], [0.229, 0.224, 0.225])\n",
    "]\n",
    "data_transform = transforms.Compose(transform_list)\n",
    "\n",
    "# 目标图片路径\n",
    "target_path = '/mnt/workspace/RK-Net/data/University-Release/train/drone/0839'\n",
    "\n",
    "# 验证路径是否存在\n",
    "if not os.path.exists(target_path):\n",
    "    raise FileNotFoundError(f\"路径不存在: {target_path}\")\n",
    "\n",
    "# 加载指定路径下的图片\n",
    "dataset = datasets.ImageFolder(\n",
    "    root=os.path.dirname(target_path),\n",
    "    transform=data_transform\n",
    ")\n",
    "\n",
    "# 过滤出目标子文件夹的样本\n",
    "target_class = os.path.basename(target_path)\n",
    "class_idx = dataset.class_to_idx[target_class]\n",
    "filtered_indices = [i for i, (_, cls) in enumerate(dataset.imgs) if cls == class_idx]\n",
    "dataset = torch.utils.data.Subset(dataset, filtered_indices)\n",
    "\n",
    "# 检查图片数量是否足够\n",
    "if len(dataset) < 2:\n",
    "    raise ValueError(f\"目标路径下照片数量不足2张，当前仅有{len(dataset)}张\")\n",
    "\n",
    "# 创建数据加载器\n",
    "dataloader = torch.utils.data.DataLoader(\n",
    "    dataset,\n",
    "    batch_size=batchsize,\n",
    "    shuffle=True,\n",
    "    num_workers=2,\n",
    "    pin_memory=True\n",
    ")\n",
    "\n",
    "# 展示第二张照片（原始图片和预处理后图片）\n",
    "# 1. 获取原始图片路径（未预处理）\n",
    "# 注：dataset.imgs存储的是(图片路径, 类别)，需对应到过滤后的索引\n",
    "original_img_path = dataset.dataset.imgs[filtered_indices[1]][0]  # 第二张图片的原始路径\n",
    "original_img = Image.open(original_img_path).convert('RGB')  # 打开原始图片\n",
    "\n",
    "# 2. 获取预处理后的图片（通过数据集索引获取）\n",
    "preprocessed_img, label_image = dataset[3]  # 第二张图片（索引1）的预处理结果\n",
    "# 转换为可显示格式（反归一化+转PIL）\n",
    "inv_normalize = transforms.Normalize(\n",
    "    mean=[-0.485/0.229, -0.456/0.224, -0.406/0.225],\n",
    "    std=[1/0.229, 1/0.224, 1/0.225]\n",
    ")\n",
    "preprocessed_img = inv_normalize(preprocessed_img)  # 反归一化\n",
    "preprocessed_img = transforms.ToPILImage()(preprocessed_img)  # 转为PIL图片\n",
    "\n",
    "plt.subplot(1, 2, 2)\n",
    "plt.imshow(preprocessed_img)\n",
    "plt.title('预处理后图片（第二张）')\n",
    "plt.axis('off')"
   ]
  },
  {
   "cell_type": "code",
   "execution_count": null,
   "id": "b8e156e0-99e6-4b79-9e64-bcd082948bfb",
   "metadata": {
    "ExecutionIndicator": {
     "show": true
    },
    "execution": {
     "iopub.status.busy": "2025-07-17T08:08:27.799681Z",
     "iopub.status.idle": "2025-07-17T08:08:27.799923Z",
     "shell.execute_reply": "2025-07-17T08:08:27.799853Z",
     "shell.execute_reply.started": "2025-07-17T08:08:27.799845Z"
    },
    "tags": []
   },
   "outputs": [],
   "source": [
    "\n",
    "# 转换为batch格式（添加batch维度，模型通常需要[batch, c, h, w]格式）\n",
    "preprocessed_img_torch = tt(preprocessed_img)\n",
    "preprocessed_img_torch = preprocessed_img_torch.unsqueeze(0)  # 形状从[c, h, w]变为[1, c, h, w]\n",
    "label_image_torch = torch.tensor([label_image])  # 标签添加batch维度\n",
    "\n",
    "# 数据移至GPU（若使用）\n",
    "print(preprocessed_img_torch.shape)\n",
    "preprocessed_img = tp(preprocessed_img_torch[0])\n",
    "dummy_data = torch.randn(*preprocessed_img_torch.size()).to(device).requires_grad_(True)  \n",
    "dummy_label = torch.randn(label_image_torch.size()).to(device).requires_grad_(True)\n",
    "plt.imshow(tp(dummy_data[0].cpu()))\n",
    "plt.show()\n"
   ]
  },
  {
   "cell_type": "code",
   "execution_count": null,
   "id": "2c130eef-8a92-46bb-9ebb-14c9693193fc",
   "metadata": {
    "ExecutionIndicator": {
     "show": true
    },
    "execution": {
     "iopub.status.busy": "2025-07-17T08:08:27.800306Z",
     "iopub.status.idle": "2025-07-17T08:08:27.800451Z",
     "shell.execute_reply": "2025-07-17T08:08:27.800387Z",
     "shell.execute_reply.started": "2025-07-17T08:08:27.800380Z"
    },
    "tags": []
   },
   "outputs": [],
   "source": [
    "from model_white_attack import ft_net\n",
    "pretrained_path = '/mnt/workspace/RK-Net/RK-Net-main/model/pretrain/net_359.pth'  # 绝对路径\n",
    "# RK-Net/RK-Net-main/model/pretrain/net_359.pth\n",
    "model = ft_net(751).to(device)\n",
    "\n",
    "# 加载预训练权重（strict=False允许部分参数不匹配，适用于迁移学习）\n",
    "pretrained_state = torch.load(pretrained_path, map_location=torch.device('cpu'))\n",
    "model.load_state_dict(pretrained_state, strict=False)\n",
    "print(\"Loaded pretrained model from:\", pretrained_path)"
   ]
  },
  {
   "cell_type": "markdown",
   "id": "28ce9ec4-7205-42a7-9209-33d9a8dc6c0d",
   "metadata": {},
   "source": [
    "| 索引 | 模块名称                          | 说明                          |\n",
    "|------|-----------------------------------|-------------------------------|\n",
    "| 0    | `model_ft.conv1`                  | 第1层：初始卷积层             |\n",
    "| 1    | `model_ft.bn1`                    | 第2层：批归一化层             |\n",
    "| 2    | `model_ft.relu`                   | 第3层：ReLU激活函数           |\n",
    "| 3    | `self.usam_1`                     | 第4层：USAM注意力模块（第一个）|\n",
    "| 4    | `model_ft.maxpool`                | 第5层：最大池化层             |\n",
    "| 5    | `model_ft.layer1`                 | 第6层：ResNet第1个残差块      |\n",
    "| 6    | `self.usam_2`                     | 第7层：USAM注意力模块（第二个）|\n",
    "| 7    | `model_ft.layer2`                 | 第8层：ResNet第2个残差块      |\n",
    "| 8    | `model_ft.layer3`                 | 第9层：ResNet第3个残差块      |\n",
    "| 9    | `model_ft.layer4`                 | 第10层：ResNet第4个残差块     |\n",
    "| 10   | `model_ft.avgpool2`               | 第11层：全局平均池化层        |\n",
    "| 11   | `lambda x: x.view(x.size(0), x.size(1))` | 第12层：特征展平操作（将空间维度展平为特征向量） |"
   ]
  },
  {
   "cell_type": "code",
   "execution_count": null,
   "id": "2d2b8409-efbc-4692-8c0b-692d7bab1d23",
   "metadata": {
    "execution": {
     "iopub.status.busy": "2025-07-17T08:08:27.800931Z",
     "iopub.status.idle": "2025-07-17T08:08:27.801075Z",
     "shell.execute_reply": "2025-07-17T08:08:27.801009Z",
     "shell.execute_reply.started": "2025-07-17T08:08:27.801003Z"
    },
    "tags": []
   },
   "outputs": [],
   "source": [
    "print(dummy_data.size())\n",
    "print(dummy_label)\n",
    "# 总变差函数,输入dummy图像\n",
    "def _tensor_size(t):\n",
    "    return t.size()[1]*t.size()[2]*t.size()[3]\n",
    "def total_variation(x):\n",
    "    batch_size = x.size()[0]\n",
    "    h_x = x.size()[2]\n",
    "    w_x = x.size()[3]\n",
    "    count_h = _tensor_size(x[:,:,1:,:])\n",
    "    count_w = _tensor_size(x[:,:,:,1:])\n",
    "    h_tv = torch.pow(x[:,:,1:,:]-x[:,:,:h_x-1,:], 2).sum()\n",
    "    w_tv = torch.pow(x[:,:,:,1:]-x[:,:,:,:w_x-1], 2).sum()\n",
    "    return (h_tv / count_h + w_tv / count_w) / batch_size\n",
    "\n",
    "# def loss_function_1(X_cut, X0_cut,tv, lambda_param=0.4):\n",
    "\n",
    "#     euclidean_dist = pixelwise_euclidean_distance(X_cut, X0_cut)\n",
    "    \n",
    "#     return euclidean_dist + lambda_param * tv"
   ]
  },
  {
   "cell_type": "code",
   "execution_count": null,
   "id": "e9b50c96-acea-42e4-93d2-0bcf36825391",
   "metadata": {
    "ExecutionIndicator": {
     "show": true
    },
    "execution": {
     "iopub.status.busy": "2025-07-17T08:08:27.801577Z",
     "iopub.status.idle": "2025-07-17T08:08:27.801740Z",
     "shell.execute_reply": "2025-07-17T08:08:27.801666Z",
     "shell.execute_reply.started": "2025-07-17T08:08:27.801659Z"
    },
    "tags": []
   },
   "outputs": [],
   "source": [
    "#optimizer.zero_grad()  # 清空梯度\n",
    "torch.manual_seed(1234)\n",
    "print(dummy_data.shape)\n",
    "print(preprocessed_img_torch.shape)\n",
    "preprocessed_img_torch = preprocessed_img_torch.to(device)\n",
    "dummy_data = dummy_data.to(device)\n",
    "# compute original gradient \n",
    "# _, original_cut = model(preprocessed_img_torch)\n",
    "original_cut = model.f(preprocessed_img_torch)\n",
    "ture_cut= original_cut.detach().clone()\n",
    "#print(original_cut)\n",
    "# original_loss = criterion(pred, gt_onehot_label)\n",
    "# dy_dx = torch.autograd.grad(original_loss, net.parameters(), retain_graph=True)\n",
    "\n",
    "#original_dy_dx = list((_.detach().clone() for _ in dy_dx))\n"
   ]
  },
  {
   "cell_type": "code",
   "execution_count": null,
   "id": "2e1ccc42-7863-4e91-927c-f18e40edbfbc",
   "metadata": {
    "execution": {
     "iopub.status.busy": "2025-07-17T08:08:27.802058Z",
     "iopub.status.idle": "2025-07-17T08:08:27.802202Z",
     "shell.execute_reply": "2025-07-17T08:08:27.802137Z",
     "shell.execute_reply.started": "2025-07-17T08:08:27.802130Z"
    },
    "tags": []
   },
   "outputs": [],
   "source": [
    "print(original_cut.shape)"
   ]
  },
  {
   "cell_type": "code",
   "execution_count": null,
   "id": "13a49385-5860-4e3f-8c88-11a34e6f95c5",
   "metadata": {
    "ExecutionIndicator": {
     "show": true
    },
    "execution": {
     "iopub.status.busy": "2025-07-17T08:08:27.802728Z",
     "iopub.status.idle": "2025-07-17T08:08:27.802883Z",
     "shell.execute_reply": "2025-07-17T08:08:27.802814Z",
     "shell.execute_reply.started": "2025-07-17T08:08:27.802806Z"
    },
    "tags": []
   },
   "outputs": [],
   "source": [
    "T = 20000\n",
    "lr = 0.001\n",
    "optimizer = torch.optim.Adam([dummy_data], lr=lr)\n",
    "# range_T = tqdm(range(1, T+1), desc=\"White-box attacking...\")\n",
    "epsilon=1e-6\n",
    "l0 = 1e-3\n",
    "l1 = 0.01\n",
    "l2 = 1e-3\n",
    "history = []\n",
    "\n",
    "\n",
    "for iters in range(T):\n",
    "    optimizer.zero_grad()  # 清空梯度\n",
    "        # 使用网络对虚拟数据进行预测\n",
    "    # _, dummy_cut = model(dummy_data)\n",
    "    dummy_cut = model.f(dummy_data)\n",
    "    tv = total_variation(dummy_data)\n",
    "    diff_cut = torch.norm((dummy_cut[ture_cut.abs()>epsilon]- ture_cut[ture_cut.abs()>epsilon]), p=2)\n",
    "    loss_1 = torch.norm(dummy_data-torch.clamp(dummy_data, min=0, max=1))\n",
    "    loss_2 = torch.norm(dummy_cut[ture_cut.abs()<epsilon])\n",
    "    dummy_loss = diff_cut +tv*l1+l0*loss_1 + l0*loss_2\n",
    "        \n",
    "        #dummy_dcut_dx = torch.autograd.grad(dummy_loss, net.parameters(), create_graph=True, retain_graph=True, allow_unused=True)\n",
    "    dummy_loss.backward()\n",
    "    optimizer.step()  # 进行dummy_data参数更新\n",
    "    #dummy_loss, dummy_dcut_dx = closure()\n",
    "   \n",
    "    if iters % 1000 == 0: ##打印损失\n",
    "        print(f\"epoch is {iters}, and loss is {dummy_loss} loss_1: {loss_1} loss_2: {loss_2}, diff_cut: {diff_cut}\")\n",
    "        #print(iters, \"%.4f\" % current_loss.item())\n",
    "        history.append(tp(dummy_data[0].cpu()))\n",
    "        \n",
    "plt.figure(figsize=(12, 8))\n",
    "for i in range(20):\n",
    "    plt.subplot(2, 10, i + 1)\n",
    "    plt.imshow(history[i])\n",
    "    plt.title(\"虚拟图片展示（iter=%d)\" % (i * 10000))\n",
    "    plt.axis('off')\n",
    "\n",
    "plt.show()\n"
   ]
  },
  {
   "cell_type": "code",
   "execution_count": null,
   "id": "531daf5a-7dd9-4ceb-bcc0-d23d143c32e6",
   "metadata": {
    "ExecutionIndicator": {
     "show": true
    },
    "execution": {
     "iopub.status.busy": "2025-07-17T08:08:27.803209Z",
     "iopub.status.idle": "2025-07-17T08:08:27.803356Z",
     "shell.execute_reply": "2025-07-17T08:08:27.803291Z",
     "shell.execute_reply.started": "2025-07-17T08:08:27.803285Z"
    },
    "tags": []
   },
   "outputs": [],
   "source": [
    "# print(dummy_loss)"
   ]
  },
  {
   "cell_type": "code",
   "execution_count": null,
   "id": "d3dfe740-a39d-4123-a0ca-ff8b1503067a",
   "metadata": {},
   "outputs": [],
   "source": []
  }
 ],
 "metadata": {
  "kernelspec": {
   "display_name": "Python 3 (ipykernel)",
   "language": "python",
   "name": "python3"
  },
  "language_info": {
   "codemirror_mode": {
    "name": "ipython",
    "version": 3
   },
   "file_extension": ".py",
   "mimetype": "text/x-python",
   "name": "python",
   "nbconvert_exporter": "python",
   "pygments_lexer": "ipython3",
   "version": "3.11.11"
  }
 },
 "nbformat": 4,
 "nbformat_minor": 5
}
