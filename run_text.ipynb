{
 "cells": [
  {
   "cell_type": "code",
   "execution_count": 1,
   "id": "4ad0eb18-220e-4a76-aebf-c37010b6f228",
   "metadata": {
    "ExecutionIndicator": {
     "show": true
    },
    "execution": {
     "iopub.execute_input": "2025-07-08T02:43:06.343767Z",
     "iopub.status.busy": "2025-07-08T02:43:06.343643Z",
     "iopub.status.idle": "2025-07-08T02:43:06.346024Z",
     "shell.execute_reply": "2025-07-08T02:43:06.345617Z",
     "shell.execute_reply.started": "2025-07-08T02:43:06.343752Z"
    },
    "tags": []
   },
   "outputs": [],
   "source": [
    "# %run test.py\n",
    "# %run test.py"
   ]
  },
  {
   "cell_type": "code",
   "execution_count": 2,
   "id": "f3da0b5f-bb70-4bb2-adae-0a5bc08c9c53",
   "metadata": {
    "execution": {
     "iopub.execute_input": "2025-07-08T02:43:06.347293Z",
     "iopub.status.busy": "2025-07-08T02:43:06.347049Z",
     "iopub.status.idle": "2025-07-08T02:43:07.913772Z",
     "shell.execute_reply": "2025-07-08T02:43:07.913285Z",
     "shell.execute_reply.started": "2025-07-08T02:43:06.347278Z"
    },
    "tags": []
   },
   "outputs": [
    {
     "name": "stdout",
     "output_type": "stream",
     "text": [
      "torch.Size([2579, 512])\n",
      "torch.Size([37855, 512])\n",
      "torch.Size([951, 512])\n",
      "10\n",
      "Recall@1:70.19 Recall@5:88.16 Recall@10:91.58 Recall@top1:91.87 AP:74.02\n"
     ]
    }
   ],
   "source": [
    "%run evaluate_gpu_mult_feature.py"
   ]
  },
  {
   "cell_type": "code",
   "execution_count": 3,
   "id": "3666d076-b312-4736-b570-3bd8023b5de3",
   "metadata": {
    "execution": {
     "iopub.execute_input": "2025-07-08T02:43:07.914697Z",
     "iopub.status.busy": "2025-07-08T02:43:07.914432Z",
     "iopub.status.idle": "2025-07-08T02:43:07.927380Z",
     "shell.execute_reply": "2025-07-08T02:43:07.926524Z",
     "shell.execute_reply.started": "2025-07-08T02:43:07.914678Z"
    }
   },
   "outputs": [
    {
     "ename": "SyntaxError",
     "evalue": "invalid character '（' (U+FF08) (1560416651.py, line 1)",
     "output_type": "error",
     "traceback": [
      "  \u001b[36mCell\u001b[39m\u001b[36m \u001b[39m\u001b[32mIn[3]\u001b[39m\u001b[32m, line 1\u001b[39m\n\u001b[31m    \u001b[39m\u001b[31m迁移学习+训练（base）+zip_50%,only train Extract feature model between usam_1 and layer1\u001b[39m\n           ^\n\u001b[31mSyntaxError\u001b[39m\u001b[31m:\u001b[39m invalid character '（' (U+FF08)\n"
     ]
    }
   ],
   "source": [
    "迁移学习+训练（base）+zip_50%,only train Extract feature model between usam_1 and layer1\n",
    "601Recall@1:63.01 Recall@5:82.40 Recall@10:87.67 Recall@top1:88.33 AP:66.31\n",
    "551Recall@1:62.40 Recall@5:81.70 Recall@10:87.41 Recall@top1:88.12 AP:66.83"
   ]
  },
  {
   "cell_type": "code",
   "execution_count": null,
   "id": "d90d807d-bd96-4d74-885e-0cfdb711e74a",
   "metadata": {
    "execution": {
     "iopub.status.busy": "2025-07-08T02:43:07.927805Z",
     "iopub.status.idle": "2025-07-08T02:43:07.927990Z",
     "shell.execute_reply": "2025-07-08T02:43:07.927904Z",
     "shell.execute_reply.started": "2025-07-08T02:43:07.927896Z"
    }
   },
   "outputs": [],
   "source": [
    "迁移学习+训练（base）+zip_50%,only train classifer\n",
    "701Recall@1:63.18 Recall@5:82.46 Recall@10:87.92 Recall@top1:88.62 AP:67.57\n",
    "651Recall@1:62.90 Recall@5:82.12 Recall@10:87.62 Recall@top1:88.31 AP:67.27\n",
    "601Recall@1:63.01 Recall@5:82.40 Recall@10:87.67 Recall@top1:88.33 AP:67.40\n",
    "551Recall@1:62.73 Recall@5:81.95 Recall@10:87.50 Recall@top1:88.16 AP:67.11"
   ]
  },
  {
   "cell_type": "code",
   "execution_count": null,
   "id": "c1a8cee8-49d5-4dfd-b2a0-421619fa45a4",
   "metadata": {
    "execution": {
     "iopub.status.busy": "2025-07-08T02:43:07.928702Z",
     "iopub.status.idle": "2025-07-08T02:43:07.928870Z",
     "shell.execute_reply": "2025-07-08T02:43:07.928795Z",
     "shell.execute_reply.started": "2025-07-08T02:43:07.928787Z"
    }
   },
   "outputs": [],
   "source": [
    "迁移学习+训练（base）+zip_50%,only train Extract feature model\n",
    "651Recall@1:62.54 Recall@5:82.04 Recall@10:87.53 Recall@top1:88.14 AP:66.97\n",
    "501Recall@1:61.57 Recall@5:80.76 Recall@10:86.55 Recall@top1:87.26 AP:65.99\n",
    "551Recall@1:62.70 Recall@5:82.34 Recall@10:87.77 Recall@top1:88.37 AP:67.16\n",
    "301Recall@1:62.17 Recall@5:81.54 Recall@10:86.86 Recall@top1:87.54 AP:66.60"
   ]
  },
  {
   "cell_type": "code",
   "execution_count": null,
   "id": "80d2c1f1-4783-4077-b472-5e3e4e4dd7e9",
   "metadata": {
    "execution": {
     "iopub.status.busy": "2025-07-08T02:43:07.929331Z",
     "iopub.status.idle": "2025-07-08T02:43:07.929495Z",
     "shell.execute_reply": "2025-07-08T02:43:07.929414Z",
     "shell.execute_reply.started": "2025-07-08T02:43:07.929407Z"
    }
   },
   "outputs": [],
   "source": [
    "迁移学习+训练（base）,only train classifer\n",
    "851Recall@1:63.04 Recall@5:82.71 Recall@10:88.12 Recall@top1:88.71 AP:67.50\n",
    "801Recall@1:63.43 Recall@5:82.55 Recall@10:87.87 Recall@top1:88.53 AP:67.79\n",
    "701Recall@1:63.72 Recall@5:82.78 Recall@10:87.94 Recall@top1:88.63 AP:68.04\n",
    "401Recall@1:63.02 Recall@5:82.49 Recall@10:87.94 Recall@top1:88.60 AP:67.44"
   ]
  },
  {
   "cell_type": "code",
   "execution_count": null,
   "id": "974c8965-4294-4f71-90d1-b312a8afcf0a",
   "metadata": {
    "execution": {
     "iopub.status.busy": "2025-07-08T02:43:07.929874Z",
     "iopub.status.idle": "2025-07-08T02:43:07.930029Z",
     "shell.execute_reply": "2025-07-08T02:43:07.929958Z",
     "shell.execute_reply.started": "2025-07-08T02:43:07.929951Z"
    }
   },
   "outputs": [],
   "source": [
    "迁移学习+训练（base）,only train Extract feature model\n",
    "751Recall@1:68.99 Recall@5:87.24 Recall@10:91.48 Recall@top1:91.97 AP:73.09\n",
    "701Recall@1:68.40 Recall@5:86.43 Recall@10:90.93 Recall@top1:91.45 AP:72.47\n",
    "651Recall@1:68.49 Recall@5:86.57 Recall@10:90.85 Recall@top1:91.32 AP:72.55\n",
    "551Recall@1:68.98 Recall@5:86.94 Recall@10:91.15 Recall@top1:91.61 AP:73.03\n",
    "501Recall@1:69.31 Recall@5:87.16 Recall@10:91.37 Recall@top1:91.86 AP:73.35\n",
    "451Recall@1:67.56 Recall@5:86.11 Recall@10:90.56 Recall@top1:91.08 AP:71.72\n",
    "401Recall@1:69.12 Recall@5:87.15 Recall@10:91.38 Recall@top1:91.83 AP:73.17\n"
   ]
  },
  {
   "cell_type": "code",
   "execution_count": null,
   "id": "d694bbda-8c51-4414-8baa-889bae3b0aff",
   "metadata": {
    "execution": {
     "iopub.status.busy": "2025-07-08T02:43:07.930771Z",
     "iopub.status.idle": "2025-07-08T02:43:07.930933Z",
     "shell.execute_reply": "2025-07-08T02:43:07.930858Z",
     "shell.execute_reply.started": "2025-07-08T02:43:07.930850Z"
    }
   },
   "outputs": [],
   "source": [
    "#no prunt\n",
    " data,data2,data3,data4 in zip(dataloaders['satellite'], dataloaders['street'], dataloaders['drone'], dataloaders['google'])\n",
    "899Recall@1:47.65 Recall@5:73.90 Recall@10:81.82 Recall@top1:82.78 AP:53.65\n",
    "799Recall@1:48.28 Recall@5:75.00 Recall@10:82.92 Recall@top1:83.82 AP:54.33\n",
    "699Recall@1:48.33 Recall@5:74.22 Recall@10:82.06 Recall@top1:82.99 AP:54.22\n",
    "599Recall@1:47.32 Recall@5:73.70 Recall@10:81.64 Recall@top1:82.62 AP:53.33\n",
    "499Recall@1:47.64 Recall@5:74.26 Recall@10:82.40 Recall@top1:83.40 AP:53.70\n",
    "399Recall@1:47.16 Recall@5:73.88 Recall@10:81.88 Recall@top1:82.78 AP:53.23\n",
    "299Recall@1:46.64 Recall@5:72.95 Recall@10:80.90 Recall@top1:81.98 AP:52.62"
   ]
  },
  {
   "cell_type": "code",
   "execution_count": null,
   "id": "d79b9042-3762-4004-9738-56be4e146bda",
   "metadata": {
    "execution": {
     "iopub.status.busy": "2025-07-08T02:43:07.931512Z",
     "iopub.status.idle": "2025-07-08T02:43:07.931668Z",
     "shell.execute_reply": "2025-07-08T02:43:07.931595Z",
     "shell.execute_reply.started": "2025-07-08T02:43:07.931587Z"
    }
   },
   "outputs": [],
   "source": [
    "#prunt 50% ,betwent NO.1 conv and USAM\n",
    "899recall@1:51.18 Recall@5:76.49 Recall@10:83.85 Recall@top1:84.79 AP:56.93\n",
    "799Recall@1:51.34 Recall@5:76.68 Recall@10:84.37 Recall@top1:85.23 AP:57.12\n",
    "699Recall@1:51.15 Recall@5:76.63 Recall@10:83.95 Recall@top1:84.92 AP:56.98\n",
    "599Recall@1:51.37 Recall@5:76.80 Recall@10:84.21 Recall@top1:85.19 AP:57.16\n",
    "499Recall@1:51.15 Recall@5:76.18 Recall@10:83.83 Recall@top1:84.74 AP:56.88\n",
    "399Recall@1:50.66 Recall@5:75.61 Recall@10:83.36 Recall@top1:84.27 AP:56.39\n",
    "299Recall@1:50.79 Recall@5:76.36 Recall@10:83.84 Recall@top1:84.80 AP:56.59"
   ]
  },
  {
   "cell_type": "code",
   "execution_count": null,
   "id": "1251bef2-6739-4156-b980-bb91c3c1e776",
   "metadata": {
    "execution": {
     "iopub.status.busy": "2025-07-08T02:43:07.931986Z",
     "iopub.status.idle": "2025-07-08T02:43:07.932154Z",
     "shell.execute_reply": "2025-07-08T02:43:07.932068Z",
     "shell.execute_reply.started": "2025-07-08T02:43:07.932061Z"
    }
   },
   "outputs": [],
   "source": [
    "# %run evaluate_gpu_3sample.py"
   ]
  },
  {
   "cell_type": "code",
   "execution_count": null,
   "id": "1bb6de78-74a5-4a26-ab96-7fd0864c815e",
   "metadata": {},
   "outputs": [],
   "source": []
  }
 ],
 "metadata": {
  "kernelspec": {
   "display_name": "Python 3 (ipykernel)",
   "language": "python",
   "name": "python3"
  },
  "language_info": {
   "codemirror_mode": {
    "name": "ipython",
    "version": 3
   },
   "file_extension": ".py",
   "mimetype": "text/x-python",
   "name": "python",
   "nbconvert_exporter": "python",
   "pygments_lexer": "ipython3",
   "version": "3.11.11"
  }
 },
 "nbformat": 4,
 "nbformat_minor": 5
}
