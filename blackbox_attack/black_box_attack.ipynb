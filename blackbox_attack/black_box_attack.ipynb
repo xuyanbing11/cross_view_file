{
 "cells": [
  {
   "cell_type": "code",
   "execution_count": 1,
   "id": "3a7aaff6-cf10-4ae6-b090-d6c90984bd01",
   "metadata": {
    "ExecutionIndicator": {
     "show": true
    },
    "execution": {
     "iopub.execute_input": "2025-07-20T03:53:55.045300Z",
     "iopub.status.busy": "2025-07-20T03:53:55.045063Z",
     "iopub.status.idle": "2025-07-20T03:53:59.373903Z",
     "shell.execute_reply": "2025-07-20T03:53:59.373460Z",
     "shell.execute_reply.started": "2025-07-20T03:53:55.045284Z"
    },
    "tags": []
   },
   "outputs": [],
   "source": [
    "import argparse\n",
    "import numpy as np\n",
    "from pprint import pprint\n",
    "from tqdm import tqdm\n",
    "from PIL import Image\n",
    "import matplotlib.pyplot as plt\n",
    "import torch.optim as optim\n",
    "import torch\n",
    "import torch.nn as nn\n",
    "import torch.nn.functional as F\n",
    "from torch.autograd import grad\n",
    "from torchvision import datasets, transforms\n",
    "import os\n",
    "from blackbox_utils import label_to_onehot, cross_entropy_for_onehot, pixelwise_euclidean_distance\n",
    "import matplotlib.pyplot as plt\n",
    "from torch.utils.data import Dataset, DataLoader, Subset\n",
    "# 指定使用文泉驿微米黑（系统已识别的字体名称）\n",
    "plt.rcParams['font.sans-serif'] = ['WenQuanYi Micro Hei']  \n",
    "# 解决负号显示为方块的问题\n",
    "plt.rcParams['axes.unicode_minus'] = False  "
   ]
  },
  {
   "cell_type": "code",
   "execution_count": 2,
   "id": "e701a1f7-3a1d-4d1a-89d6-1a40ba167cd8",
   "metadata": {
    "ExecutionIndicator": {
     "show": true
    },
    "execution": {
     "iopub.execute_input": "2025-07-20T03:53:59.375064Z",
     "iopub.status.busy": "2025-07-20T03:53:59.374771Z",
     "iopub.status.idle": "2025-07-20T03:53:59.378377Z",
     "shell.execute_reply": "2025-07-20T03:53:59.377932Z",
     "shell.execute_reply.started": "2025-07-20T03:53:59.375047Z"
    },
    "tags": []
   },
   "outputs": [],
   "source": [
    "#################################################\n",
    "# 轻易不要运行这个代码\n",
    "\n",
    "# import os\n",
    "# import shutil\n",
    "# from PIL import Image  # 用于验证图片完整性（可选）\n",
    "\n",
    "# # 配置路径\n",
    "# source_root = \"/mnt/workspace/RK-Net/data/University-Release/train/drone\"\n",
    "# target_dir = \"/mnt/workspace/magazine/black_box/data\"\n",
    "\n",
    "# # 确保目标文件夹存在\n",
    "# if not os.path.exists(target_dir):\n",
    "#     os.makedirs(target_dir)\n",
    "#     print(f\"创建目标文件夹: {target_dir}\")\n",
    "\n",
    "# # 定义支持的图片扩展名（可根据实际情况补充）\n",
    "# IMAGE_EXTENSIONS = ('.jpg', '.jpeg', '.png', '.bmp', '.gif', '.tiff')\n",
    "\n",
    "# # 遍历所有子文件夹，提取图片\n",
    "# copied_count = 0\n",
    "# for root, dirs, files in os.walk(source_root):\n",
    "#     for filename in files:\n",
    "#         # 检查文件扩展名是否为图片\n",
    "#         if filename.lower().endswith(IMAGE_EXTENSIONS):\n",
    "#             source_path = os.path.join(root, filename)\n",
    "#             # 处理重名：自动添加序号（如 photo.jpg → photo_1.jpg）\n",
    "#             target_path = os.path.join(target_dir, filename)\n",
    "#             if os.path.exists(target_path):\n",
    "#                 base_name, ext = os.path.splitext(filename)\n",
    "#                 counter = 1\n",
    "#                 while True:\n",
    "#                     new_filename = f\"{base_name}_{counter}{ext}\"\n",
    "#                     target_path = os.path.join(target_dir, new_filename)\n",
    "#                     if not os.path.exists(target_path):\n",
    "#                         break\n",
    "#                     counter += 1\n",
    "\n",
    "#             # （可选）验证图片完整性，避免复制损坏文件\n",
    "#             try:\n",
    "#                 with Image.open(source_path) as img:\n",
    "#                     img.verify()  # 验证图片是否可正常打开\n",
    "#             except (IOError, SyntaxError) as e:\n",
    "#                 print(f\"跳过无效图片: {source_path}（错误: {e}）\")\n",
    "#                 continue\n",
    "\n",
    "#             # 复制文件（保留元数据）\n",
    "#             shutil.copy2(source_path, target_path)\n",
    "#             print(f\"已复制: {source_path} → {target_path}\")\n",
    "#             copied_count += 1\n",
    "\n",
    "# print(f\"\\n任务完成！共复制 {copied_count} 张图片到 {target_dir}\")"
   ]
  },
  {
   "cell_type": "code",
   "execution_count": 3,
   "id": "3b526d37-e7b1-436f-876b-1dbc48b2edbe",
   "metadata": {
    "ExecutionIndicator": {
     "show": true
    },
    "execution": {
     "iopub.execute_input": "2025-07-20T03:53:59.379025Z",
     "iopub.status.busy": "2025-07-20T03:53:59.378846Z",
     "iopub.status.idle": "2025-07-20T03:53:59.541320Z",
     "shell.execute_reply": "2025-07-20T03:53:59.540860Z",
     "shell.execute_reply.started": "2025-07-20T03:53:59.379010Z"
    },
    "tags": []
   },
   "outputs": [],
   "source": [
    "# ------------------- 配置参数 -------------------\n",
    "batchsize = 1\n",
    "h, w = 384, 384\n",
    "pad = 10\n",
    "num_images = 3000  # 需要选取的照片数量\n",
    "target_path = '/mnt/workspace/magazine/black_box/data'  # 目标图片路径\n",
    "# save_dataset_path = '/mnt/workspace/magazine/black_box/blackbox_dataset.pt'  # 新数据集保存路径\n",
    "device = torch.device(\"cuda\" if torch.cuda.is_available() else \"cpu\")\n",
    "tt = transforms.ToTensor()#转发为张量\n",
    "tp = transforms.ToPILImage()#转换为图片\n"
   ]
  },
  {
   "cell_type": "code",
   "execution_count": 4,
   "id": "30a84460-26cd-4a82-9d3b-72d3187c7950",
   "metadata": {
    "ExecutionIndicator": {
     "show": true
    },
    "execution": {
     "iopub.execute_input": "2025-07-20T03:53:59.542052Z",
     "iopub.status.busy": "2025-07-20T03:53:59.541897Z",
     "iopub.status.idle": "2025-07-20T03:53:59.675219Z",
     "shell.execute_reply": "2025-07-20T03:53:59.674830Z",
     "shell.execute_reply.started": "2025-07-20T03:53:59.542037Z"
    },
    "tags": []
   },
   "outputs": [],
   "source": [
    "# 自定义数据集（替代 ImageFolder）\n",
    "class CustomImageDataset(Dataset):\n",
    "    def __init__(self, image_dir, transform=None):\n",
    "        self.image_dir = image_dir\n",
    "        self.transform = transform\n",
    "        # 只保留图片文件（过滤非图片、隐藏文件）\n",
    "        self.image_paths = [\n",
    "            os.path.join(image_dir, fname) \n",
    "            for fname in os.listdir(image_dir) \n",
    "            if fname.lower().endswith(('.jpg', '.jpeg', '.png', '.bmp'))  # 支持的图片格式\n",
    "            and not fname.startswith('.')  # 过滤隐藏文件\n",
    "        ]\n",
    "\n",
    "    def __len__(self):\n",
    "        return len(self.image_paths)\n",
    "\n",
    "    def __getitem__(self, idx):\n",
    "        # 加载并预处理图片\n",
    "        image_path = self.image_paths[idx]\n",
    "        image = Image.open(image_path).convert('RGB')  # 转为 RGB\n",
    "        if self.transform:\n",
    "            image = self.transform(image)\n",
    "        return image, 0  # 标签统一设为 0（无类别区分时）\n",
    "\n",
    "\n",
    "# ------------------- 原代码替换为自定义数据集 -------------------\n",
    "# 目标图片路径（直接存图片的目录）\n",
    "# target_path = '/mnt/workspace/magazine/black_box/data'  \n",
    "\n",
    "# 验证路径存在\n",
    "if not os.path.exists(target_path):\n",
    "    raise FileNotFoundError(f\"路径不存在: {target_path}\")\n",
    "\n",
    "# 定义预处理\n",
    "transform_list = [\n",
    "    transforms.Resize((h, w), interpolation=3),\n",
    "    transforms.Pad(pad, padding_mode='edge'),\n",
    "    transforms.RandomCrop((h, w)),\n",
    "    transforms.RandomHorizontalFlip(),\n",
    "    transforms.ToTensor(),\n",
    "    transforms.Normalize([0.485, 0.456, 0.406], [0.229, 0.224, 0.225])\n",
    "]\n",
    "data_transform = transforms.Compose(transform_list)\n",
    "\n",
    "# 加载自定义数据集\n",
    "dataset = CustomImageDataset(target_path, transform=data_transform)\n",
    "\n",
    "# 检查图片数量\n",
    "# num_images = 5000\n",
    "if len(dataset) < num_images:\n",
    "    raise ValueError(f\"目标路径下照片数量不足 {num_images} 张，当前仅有 {len(dataset)} 张\")\n",
    "\n",
    "selected_indices = range(num_images)  # 直接取前 num_images 张\n",
    "selected_dataset = Subset(dataset, selected_indices)\n",
    "\n",
    "# 创建数据加载器\n",
    "dataloader = DataLoader(\n",
    "    selected_dataset,\n",
    "    batch_size=batchsize,\n",
    "    shuffle=False,\n",
    "    num_workers=0,\n",
    "    pin_memory=True\n",
    ")"
   ]
  },
  {
   "cell_type": "code",
   "execution_count": 5,
   "id": "b8e156e0-99e6-4b79-9e64-bcd082948bfb",
   "metadata": {
    "ExecutionIndicator": {
     "show": true
    },
    "execution": {
     "iopub.execute_input": "2025-07-20T03:53:59.676618Z",
     "iopub.status.busy": "2025-07-20T03:53:59.676356Z",
     "iopub.status.idle": "2025-07-20T03:53:59.678578Z",
     "shell.execute_reply": "2025-07-20T03:53:59.678221Z",
     "shell.execute_reply.started": "2025-07-20T03:53:59.676601Z"
    },
    "tags": []
   },
   "outputs": [],
   "source": [
    "\n",
    "# # 转换为batch格式（添加batch维度，模型通常需要[batch, c, h, w]格式）\n",
    "# preprocessed_img_torch = tt(preprocessed_img)\n",
    "# preprocessed_img_torch = preprocessed_img_torch.unsqueeze(0)  # 形状从[c, h, w]变为[1, c, h, w]\n",
    "# label_image_torch = torch.tensor([label_image])  # 标签添加batch维度\n",
    "\n"
   ]
  },
  {
   "cell_type": "code",
   "execution_count": 6,
   "id": "2c130eef-8a92-46bb-9ebb-14c9693193fc",
   "metadata": {
    "ExecutionIndicator": {
     "show": true
    },
    "execution": {
     "iopub.execute_input": "2025-07-20T03:53:59.679131Z",
     "iopub.status.busy": "2025-07-20T03:53:59.678998Z",
     "iopub.status.idle": "2025-07-20T03:53:59.681484Z",
     "shell.execute_reply": "2025-07-20T03:53:59.681060Z",
     "shell.execute_reply.started": "2025-07-20T03:53:59.679118Z"
    },
    "tags": []
   },
   "outputs": [],
   "source": [
    "# from model_white_attack import ft_net\n",
    "# pretrained_path = '/mnt/workspace/RK-Net/RK-Net-main/model/pretrain/net_359.pth'  # 绝对路径\n",
    "# # RK-Net/RK-Net-main/model/pretrain/net_359.pth\n",
    "# model = ft_net(751).to(device)\n",
    "\n",
    "# # 加载预训练权重（strict=False允许部分参数不匹配，适用于迁移学习）\n",
    "# pretrained_state = torch.load(pretrained_path, map_location=torch.device('cpu'))\n",
    "# model.load_state_dict(pretrained_state, strict=False)\n",
    "# print(\"Loaded pretrained model from:\", pretrained_path)"
   ]
  },
  {
   "cell_type": "markdown",
   "id": "28ce9ec4-7205-42a7-9209-33d9a8dc6c0d",
   "metadata": {},
   "source": [
    "| 索引 | 模块名称                          | 说明                          |\n",
    "|------|-----------------------------------|-------------------------------|\n",
    "| 0    | `model_ft.conv1`                  | 第1层：初始卷积层             |\n",
    "| 1    | `model_ft.bn1`                    | 第2层：批归一化层             |\n",
    "| 2    | `model_ft.relu`                   | 第3层：ReLU激活函数           |\n",
    "| 3    | `self.usam_1`                     | 第4层：USAM注意力模块（第一个）|\n",
    "| 4    | `model_ft.maxpool`                | 第5层：最大池化层             |\n",
    "| 5    | `model_ft.layer1`                 | 第6层：ResNet第1个残差块      |\n",
    "| 6    | `self.usam_2`                     | 第7层：USAM注意力模块（第二个）|\n",
    "| 7    | `model_ft.layer2`                 | 第8层：ResNet第2个残差块      |\n",
    "| 8    | `model_ft.layer3`                 | 第9层：ResNet第3个残差块      |\n",
    "| 9    | `model_ft.layer4`                 | 第10层：ResNet第4个残差块     |\n",
    "| 10   | `model_ft.avgpool2`               | 第11层：全局平均池化层        |\n",
    "| 11   | `lambda x: x.view(x.size(0), x.size(1))` | 第12层：特征展平操作（将空间维度展平为特征向量） |"
   ]
  },
  {
   "cell_type": "code",
   "execution_count": 7,
   "id": "11f21157-f8d5-421e-be60-d2d12161393a",
   "metadata": {
    "ExecutionIndicator": {
     "show": true
    },
    "execution": {
     "iopub.execute_input": "2025-07-20T03:53:59.682080Z",
     "iopub.status.busy": "2025-07-20T03:53:59.681948Z",
     "iopub.status.idle": "2025-07-20T03:54:02.207922Z",
     "shell.execute_reply": "2025-07-20T03:54:02.207470Z",
     "shell.execute_reply.started": "2025-07-20T03:53:59.682067Z"
    },
    "tags": []
   },
   "outputs": [],
   "source": [
    "\n",
    "\n",
    "class VGG9(nn.Module):\n",
    "    def __init__(self, num_classes, sp=4, in_channels=3, fig_size=384):####sp为切割点\n",
    "        assert sp<=17 and sp>0\n",
    "        super(VGG9, self).__init__()\n",
    "        cfg = [32, 64, 128, 128, 256, 256, 512, 512]\n",
    "        self.conv1 = nn.Conv2d(in_channels,  cfg[0], 3, 1, 1)\n",
    "        self.conv2 = nn.Conv2d(cfg[0], cfg[1], 3, 1, 1)\n",
    "        self.conv3 = nn.Conv2d(cfg[1], cfg[2], 3, 1, 1)\n",
    "        self.conv4 = nn.Conv2d(cfg[2], cfg[3], 3, 1, 1)\n",
    "        self.conv5 = nn.Conv2d(cfg[3], cfg[4], 3, 1, 1)\n",
    "        self.conv6 = nn.Conv2d(cfg[4], cfg[5], 3, 1, 1)\n",
    "        self.fc1   = nn.Linear(int((fig_size/8)**2)*cfg[5], cfg[6])\n",
    "        self.fc2   = nn.Linear(cfg[6], cfg[7])\n",
    "        self.fc3   = nn.Linear(cfg[7], num_classes)\n",
    "        self.total_module_list = [self.conv1, self.conv2, nn.ReLU(), nn.MaxPool2d(2, 2), \n",
    "                                self.conv3, self.conv4, nn.ReLU(), nn.MaxPool2d(2, 2),\n",
    "                                self.conv5, self.conv6, nn.ReLU(), nn.MaxPool2d(2, 2),\n",
    "                               nn.Flatten(1), self.fc1, nn.ReLU(), self.fc2, nn.ReLU(), self.fc3]\n",
    "        self.f = nn.Sequential(*self.total_module_list[0:sp])\n",
    "        self.g = nn.Sequential(*self.total_module_list[sp:])\n",
    "\n",
    "    def forward(self, x):\n",
    "        x_1 = self.f(x)\n",
    "        x_cut = x_1.detach().clone()\n",
    "        x_out = self.g(x_1)\n",
    "        return x_out, x_cut\n",
    "\n",
    "net = VGG9(num_classes=751).to(device)#模型名字\n"
   ]
  },
  {
   "cell_type": "code",
   "execution_count": 8,
   "id": "e9b50c96-acea-42e4-93d2-0bcf36825391",
   "metadata": {
    "ExecutionIndicator": {
     "show": true
    },
    "execution": {
     "iopub.execute_input": "2025-07-20T03:54:02.208574Z",
     "iopub.status.busy": "2025-07-20T03:54:02.208413Z",
     "iopub.status.idle": "2025-07-20T03:54:02.211483Z",
     "shell.execute_reply": "2025-07-20T03:54:02.211111Z",
     "shell.execute_reply.started": "2025-07-20T03:54:02.208558Z"
    },
    "tags": []
   },
   "outputs": [],
   "source": [
    "# ------------------- 生成新训练集（简化版，无分块） -------------------\n",
    "new_dataset = []\n",
    "save_dataset_path = '/mnt/workspace/magazine/black_box/blackbox_dataset.pt'\n",
    "# with torch.no_grad():\n",
    "#     for i, (img_tensor, _) in enumerate(tqdm(dataloader, desc=\"生成新数据集\")):\n",
    "#         # 模型推理（确保所有计算在GPU）\n",
    "#         img_tensor = img_tensor.to(device)\n",
    "#         model_output = net.f(img_tensor)\n",
    "        \n",
    "#         # 获取原始图像路径（绝对路径，确保可靠）\n",
    "#         original_path = selected_dataset.dataset.image_paths[selected_indices[i]]\n",
    "        \n",
    "#         # 保存：模型输出移到CPU（释放GPU内存），路径保持绝对\n",
    "#         new_dataset.append((model_output.cpu(), img_tensor.cpu()))\n",
    "        \n",
    "#         # # 每100步清理GPU缓存（可选）\n",
    "#         # if i % 100 == 0:\n",
    "#         #     torch.cuda.empty_cache()\n",
    "\n",
    "# # 直接保存完整数据集（避免分块合并错误）\n",
    "# torch.save(new_dataset, save_dataset_path)\n",
    "# print(f\"✅ 已保存完整数据集到: {save_dataset_path}\")"
   ]
  },
  {
   "cell_type": "code",
   "execution_count": 9,
   "id": "2e1ccc42-7863-4e91-927c-f18e40edbfbc",
   "metadata": {
    "ExecutionIndicator": {
     "show": true
    },
    "execution": {
     "iopub.execute_input": "2025-07-20T03:54:02.212037Z",
     "iopub.status.busy": "2025-07-20T03:54:02.211899Z",
     "iopub.status.idle": "2025-07-20T03:54:02.214249Z",
     "shell.execute_reply": "2025-07-20T03:54:02.213901Z",
     "shell.execute_reply.started": "2025-07-20T03:54:02.212022Z"
    },
    "tags": []
   },
   "outputs": [],
   "source": [
    "# # save_dataset_path = '/mnt/workspace/magazine/black_box/blackbox_dataset.pt'\n",
    "# # ------------------- 验证新数据集 -------------------\n",
    "# # 加载并验证新数据集\n",
    "# loaded_dataset = torch.load(save_dataset_path)\n",
    "# print(f\"加载验证: 数据集包含 {len(loaded_dataset)} 个样本\")\n",
    "\n",
    "# # 示例：查看第一个样本\n",
    "# sample_output, sample_path = loaded_dataset[0]\n",
    "# print(f\"样本输出形状: {sample_output.shape}\")\n",
    "# print(f\"对应的原始图像路径: {sample_path}\")"
   ]
  },
  {
   "cell_type": "code",
   "execution_count": 10,
   "id": "df915e39-751d-4573-baca-c9aa422052fb",
   "metadata": {
    "ExecutionIndicator": {
     "show": true
    },
    "execution": {
     "iopub.execute_input": "2025-07-20T03:54:02.214867Z",
     "iopub.status.busy": "2025-07-20T03:54:02.214732Z",
     "iopub.status.idle": "2025-07-20T03:54:02.220324Z",
     "shell.execute_reply": "2025-07-20T03:54:02.219925Z",
     "shell.execute_reply.started": "2025-07-20T03:54:02.214854Z"
    },
    "tags": []
   },
   "outputs": [],
   "source": [
    "class blackbox_attack(nn.Module):\n",
    "    def __init__(self, num_classes, sp=4, in_channels=64, fig_size=192):\n",
    "        # 确保 sp 范围有效\n",
    "        assert 0 < sp <= 17, \"sp 需满足 0 < sp <= 17\"\n",
    "        super(blackbox_attack, self).__init__()  # 修正继承，原为错误的 VGG9\n",
    "        \n",
    "        # 网络配置（通道数序列）\n",
    "        cfg = [32, 64, 128, 128, 256, 256, 512, 512]\n",
    "        \n",
    "        # ------------------- 新增：上采样转置卷积层 -------------------\n",
    "        # 目标：将 192×192 放大到 384×384（尺寸翻倍）\n",
    "        self.upsample = nn.ConvTranspose2d(\n",
    "            in_channels=cfg[1],    # 输入通道数（与 conv1 输出匹配）\n",
    "            out_channels=cfg[1],   # 输出通道数（保持与输入一致）\n",
    "            kernel_size=3,         # 卷积核大小\n",
    "            stride=2,              # 步长=2 → 尺寸×2\n",
    "            padding=1,             # 填充\n",
    "            output_padding=1,      # 确保输出尺寸精准翻倍（192→384）\n",
    "            bias=False             # 配合 BatchNorm 更稳定\n",
    "        )\n",
    "        # 可选：添加 BatchNorm 和 ReLU 增强非线性（根据需求调整）\n",
    "        self.upsample_bn = nn.BatchNorm2d(cfg[1])\n",
    "        self.upsample_relu = nn.ReLU(inplace=True)\n",
    "        \n",
    "        # ------------------- 原有卷积层 -------------------\n",
    "        self.conv1 = nn.Conv2d(cfg[1], cfg[0], kernel_size=3, stride=1, padding=1)\n",
    "        self.conv2 = nn.Conv2d(cfg[0], in_channels, kernel_size=3, stride=1, padding=1)\n",
    "        \n",
    "        # ------------------- 构建模块列表（插入上采样流程） -------------------\n",
    "        self.total_module_list = [\n",
    "            # 插入上采样流程：64×192×192 → 64×384×384\n",
    "            self.upsample,        \n",
    "            self.upsample_bn,     \n",
    "            self.upsample_relu,   \n",
    "            self.conv1,            \n",
    "            nn.ReLU(inplace=True), \n",
    "            \n",
    "            self.conv2,            \n",
    "        ]\n",
    "\n",
    "    def forward(self, x):\n",
    "        # 按模块列表顺序执行\n",
    "        for module in self.total_module_list:\n",
    "            x = module(x)\n",
    "        return x"
   ]
  },
  {
   "cell_type": "code",
   "execution_count": 15,
   "id": "13a49385-5860-4e3f-8c88-11a34e6f95c5",
   "metadata": {
    "ExecutionIndicator": {
     "show": true
    },
    "execution": {
     "iopub.execute_input": "2025-07-20T03:58:18.235411Z",
     "iopub.status.busy": "2025-07-20T03:58:18.235110Z",
     "iopub.status.idle": "2025-07-20T03:58:18.424692Z",
     "shell.execute_reply": "2025-07-20T03:58:18.424110Z",
     "shell.execute_reply.started": "2025-07-20T03:58:18.235393Z"
    },
    "tags": []
   },
   "outputs": [
    {
     "name": "stderr",
     "output_type": "stream",
     "text": [
      "Epoch 1/20 [Train]:   0%|          | 0/94 [00:00<?, ?it/s]\n"
     ]
    },
    {
     "ename": "AttributeError",
     "evalue": "'str' object has no attribute 'shape'",
     "output_type": "error",
     "traceback": [
      "\u001b[31m---------------------------------------------------------------------------\u001b[39m",
      "\u001b[31mAttributeError\u001b[39m                            Traceback (most recent call last)",
      "\u001b[36mCell\u001b[39m\u001b[36m \u001b[39m\u001b[32mIn[15]\u001b[39m\u001b[32m, line 19\u001b[39m\n\u001b[32m     17\u001b[39m train_loss = \u001b[32m0.0\u001b[39m\n\u001b[32m     18\u001b[39m \u001b[38;5;28;01mfor\u001b[39;00m model_output, preprocessed_tensor \u001b[38;5;129;01min\u001b[39;00m tqdm(attack_train_loader, desc=\u001b[33mf\u001b[39m\u001b[33m\"\u001b[39m\u001b[33mEpoch \u001b[39m\u001b[38;5;132;01m{\u001b[39;00mepoch+\u001b[32m1\u001b[39m\u001b[38;5;132;01m}\u001b[39;00m\u001b[33m/\u001b[39m\u001b[38;5;132;01m{\u001b[39;00mepochs\u001b[38;5;132;01m}\u001b[39;00m\u001b[33m [Train]\u001b[39m\u001b[33m\"\u001b[39m):\n\u001b[32m---> \u001b[39m\u001b[32m19\u001b[39m     \u001b[38;5;28mprint\u001b[39m(\u001b[43mpreprocessed_tensor\u001b[49m\u001b[43m[\u001b[49m\u001b[32;43m0\u001b[39;49m\u001b[43m]\u001b[49m\u001b[43m.\u001b[49m\u001b[43mshape\u001b[49m)\n\u001b[32m     20\u001b[39m     \u001b[38;5;28mprint\u001b[39m(model_output.shape)\n\u001b[32m     21\u001b[39m     model_output = model_output.to(device)\n",
      "\u001b[31mAttributeError\u001b[39m: 'str' object has no attribute 'shape'"
     ]
    }
   ],
   "source": [
    "attack_dataset = torch.load(save_dataset_path)\n",
    "\n",
    "# 创建数据加载器（全部作为训练集，不划分验证集）\n",
    "attack_train_loader = DataLoader(attack_dataset, batch_size=32, shuffle=True, num_workers=2)\n",
    "\n",
    "# ------------------- 初始化模型、损失函数和优化器 -------------------\n",
    "# device = torch.device(\"cuda\" if torch.cuda.is_available() else \"cpu\")\n",
    "blackbox_net = blackbox_attack(num_classes=751).to(device)\n",
    "criterion = nn.MSELoss()\n",
    "optimizer = optim.Adam(blackbox_net.parameters(), lr=0.001)\n",
    "epochs = 20\n",
    "history_attack = []\n",
    "# ------------------- 训练循环 -------------------\n",
    "for epoch in range(epochs):\n",
    "    # 训练阶段\n",
    "    blackbox_net.train()\n",
    "    train_loss = 0.0\n",
    "    for model_output, preprocessed_tensor in tqdm(attack_train_loader, desc=f\"Epoch {epoch+1}/{epochs} [Train]\"):\n",
    "        print(preprocessed_tensor[0].shape)\n",
    "        print(model_output.shape)\n",
    "        model_output = model_output.to(device)\n",
    "        preprocessed_tensor = preprocessed_tensor.to(device)\n",
    "        \n",
    "        # 前向传播\n",
    "        outputs = blackbox_net(model_output)\n",
    "        loss = criterion(outputs, preprocessed_tensor)\n",
    "        \n",
    "        # 反向传播和优化\n",
    "        optimizer.zero_grad()\n",
    "        loss.backward()\n",
    "        optimizer.step()\n",
    "        \n",
    "        # train_loss += loss.item() * model_output.size(0)\n",
    "    history_attack.append(tp(outputs[0].cpu()))\n",
    "    print(f\"epoch {epoch} loss value:{loss}\")\n",
    "    \n",
    "    \n",
    "plt.figure(figsize=(12, 8))\n",
    "for i in range(20):\n",
    "    plt.subplot(2, 10, i + 1)\n",
    "    plt.imshow(history[i])\n",
    "    plt.title(\"虚拟图片展示（iter=%d)\" % (i))\n",
    "    plt.axis('off')\n",
    "\n",
    "\n",
    "# 保存最终模型\n",
    "torch.save(blackbox_net.state_dict(), 'w_attack.pth')\n",
    "print(\"训练完成！最终模型已保存至 w_attack.pth\")"
   ]
  },
  {
   "cell_type": "code",
   "execution_count": null,
   "id": "531daf5a-7dd9-4ceb-bcc0-d23d143c32e6",
   "metadata": {
    "ExecutionIndicator": {
     "show": true
    },
    "execution": {
     "iopub.status.busy": "2025-07-20T03:54:02.578321Z",
     "iopub.status.idle": "2025-07-20T03:54:02.578506Z",
     "shell.execute_reply": "2025-07-20T03:54:02.578422Z",
     "shell.execute_reply.started": "2025-07-20T03:54:02.578407Z"
    },
    "tags": []
   },
   "outputs": [],
   "source": [
    "# print(dummy_loss)"
   ]
  },
  {
   "cell_type": "code",
   "execution_count": null,
   "id": "d3dfe740-a39d-4123-a0ca-ff8b1503067a",
   "metadata": {},
   "outputs": [],
   "source": []
  }
 ],
 "metadata": {
  "kernelspec": {
   "display_name": "Python 3 (ipykernel)",
   "language": "python",
   "name": "python3"
  },
  "language_info": {
   "codemirror_mode": {
    "name": "ipython",
    "version": 3
   },
   "file_extension": ".py",
   "mimetype": "text/x-python",
   "name": "python",
   "nbconvert_exporter": "python",
   "pygments_lexer": "ipython3",
   "version": "3.11.11"
  }
 },
 "nbformat": 4,
 "nbformat_minor": 5
}
