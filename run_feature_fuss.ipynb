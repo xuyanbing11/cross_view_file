{
 "cells": [
  {
   "cell_type": "code",
   "execution_count": 1,
   "id": "eb8515ff-1a74-4b74-83a5-79f8d1097263",
   "metadata": {
    "ExecutionIndicator": {
     "show": true
    },
    "execution": {
     "iopub.execute_input": "2025-07-13T02:07:15.041661Z",
     "iopub.status.busy": "2025-07-13T02:07:15.041514Z",
     "iopub.status.idle": "2025-07-13T02:07:16.982900Z",
     "shell.execute_reply": "2025-07-13T02:07:16.982429Z",
     "shell.execute_reply.started": "2025-07-13T02:07:15.041645Z"
    },
    "tags": []
   },
   "outputs": [
    {
     "name": "stdout",
     "output_type": "stream",
     "text": [
      "torch.Size([2579, 512])\n",
      "torch.Size([37855, 512])\n",
      "torch.Size([951, 512])\n",
      "Recall@1:55.92 Recall@5:79.60 Recall@10:86.31 Recall@top1:87.02 AP:61.32\n"
     ]
    }
   ],
   "source": [
    "%run evaluate_gpu_mult_feature1.py"
   ]
  },
  {
   "cell_type": "code",
   "execution_count": 2,
   "id": "32f37737-3d42-44d7-90b5-11e7c62aeb4c",
   "metadata": {
    "ExecutionIndicator": {
     "show": true
    },
    "execution": {
     "iopub.execute_input": "2025-07-13T02:07:16.984151Z",
     "iopub.status.busy": "2025-07-13T02:07:16.983833Z",
     "iopub.status.idle": "2025-07-13T02:07:16.986435Z",
     "shell.execute_reply": "2025-07-13T02:07:16.986021Z",
     "shell.execute_reply.started": "2025-07-13T02:07:16.984133Z"
    },
    "tags": []
   },
   "outputs": [],
   "source": [
    "# %run evaluate_gpu.py"
   ]
  },
  {
   "cell_type": "code",
   "execution_count": null,
   "id": "c0376d53-b190-4601-9b2e-3dea91179147",
   "metadata": {},
   "outputs": [],
   "source": []
  }
 ],
 "metadata": {
  "kernelspec": {
   "display_name": "Python 3 (ipykernel)",
   "language": "python",
   "name": "python3"
  },
  "language_info": {
   "codemirror_mode": {
    "name": "ipython",
    "version": 3
   },
   "file_extension": ".py",
   "mimetype": "text/x-python",
   "name": "python",
   "nbconvert_exporter": "python",
   "pygments_lexer": "ipython3",
   "version": "3.11.11"
  }
 },
 "nbformat": 4,
 "nbformat_minor": 5
}
