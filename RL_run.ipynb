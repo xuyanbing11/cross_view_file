{
 "cells": [
  {
   "cell_type": "code",
   "execution_count": 1,
   "id": "ffc6b4d3-34e8-4c6f-98f7-7d7e6b83fa59",
   "metadata": {
    "ExecutionIndicator": {
     "show": true
    },
    "execution": {
     "iopub.execute_input": "2025-07-30T13:48:07.827394Z",
     "iopub.status.busy": "2025-07-30T13:48:07.827240Z",
     "iopub.status.idle": "2025-07-30T13:48:10.365052Z",
     "shell.execute_reply": "2025-07-30T13:48:10.364571Z",
     "shell.execute_reply.started": "2025-07-30T13:48:07.827371Z"
    },
    "tags": []
   },
   "outputs": [
    {
     "name": "stdout",
     "output_type": "stream",
     "text": [
      "Using device: cuda\n"
     ]
    },
    {
     "ename": "TypeError",
     "evalue": "ReduceLROnPlateau.__init__() got an unexpected keyword argument 'verbose'",
     "output_type": "error",
     "traceback": [
      "\u001b[0;31m---------------------------------------------------------------------------\u001b[0m",
      "\u001b[0;31mTypeError\u001b[0m                                 Traceback (most recent call last)",
      "File \u001b[0;32m/mnt/workspace/PPO_NET.py:284\u001b[0m\n\u001b[1;32m    282\u001b[0m state_dim \u001b[38;5;241m=\u001b[39m \u001b[38;5;241m2\u001b[39m  \u001b[38;5;66;03m# [agent_type, data_size]\u001b[39;00m\n\u001b[1;32m    283\u001b[0m action_dim \u001b[38;5;241m=\u001b[39m \u001b[38;5;28mlen\u001b[39m(partition_point)\n\u001b[0;32m--> 284\u001b[0m mappo \u001b[38;5;241m=\u001b[39m \u001b[43mMAPPO\u001b[49m\u001b[43m(\u001b[49m\u001b[43mstate_dim\u001b[49m\u001b[43m,\u001b[49m\u001b[43m \u001b[49m\u001b[43maction_dim\u001b[49m\u001b[43m,\u001b[49m\u001b[43m \u001b[49m\u001b[43mnum_agents\u001b[49m\u001b[38;5;241;43m=\u001b[39;49m\u001b[38;5;241;43m2\u001b[39;49m\u001b[43m)\u001b[49m\n\u001b[1;32m    286\u001b[0m \u001b[38;5;66;03m# 训练循环\u001b[39;00m\n\u001b[1;32m    287\u001b[0m training_losses \u001b[38;5;241m=\u001b[39m []\n",
      "File \u001b[0;32m/mnt/workspace/PPO_NET.py:117\u001b[0m, in \u001b[0;36mMAPPO.__init__\u001b[0;34m(self, state_dim, action_dim, num_agents)\u001b[0m\n\u001b[1;32m    114\u001b[0m \u001b[38;5;28mself\u001b[39m\u001b[38;5;241m.\u001b[39moptimizers \u001b[38;5;241m=\u001b[39m [optim\u001b[38;5;241m.\u001b[39mAdam(agent\u001b[38;5;241m.\u001b[39mparameters(), lr\u001b[38;5;241m=\u001b[39m\u001b[38;5;241m1e-4\u001b[39m) \u001b[38;5;28;01mfor\u001b[39;00m agent \u001b[38;5;129;01min\u001b[39;00m \u001b[38;5;28mself\u001b[39m\u001b[38;5;241m.\u001b[39magents]\n\u001b[1;32m    116\u001b[0m \u001b[38;5;66;03m# 自适应学习率调度器\u001b[39;00m\n\u001b[0;32m--> 117\u001b[0m \u001b[38;5;28mself\u001b[39m\u001b[38;5;241m.\u001b[39mschedulers \u001b[38;5;241m=\u001b[39m [\n\u001b[1;32m    118\u001b[0m     optim\u001b[38;5;241m.\u001b[39mlr_scheduler\u001b[38;5;241m.\u001b[39mReduceLROnPlateau(\n\u001b[1;32m    119\u001b[0m         opt, mode\u001b[38;5;241m=\u001b[39m\u001b[38;5;124m'\u001b[39m\u001b[38;5;124mmin\u001b[39m\u001b[38;5;124m'\u001b[39m, factor\u001b[38;5;241m=\u001b[39m\u001b[38;5;241m0.5\u001b[39m, patience\u001b[38;5;241m=\u001b[39m\u001b[38;5;241m10\u001b[39m, verbose\u001b[38;5;241m=\u001b[39m\u001b[38;5;28;01mTrue\u001b[39;00m\n\u001b[1;32m    120\u001b[0m     ) \u001b[38;5;28;01mfor\u001b[39;00m opt \u001b[38;5;129;01min\u001b[39;00m \u001b[38;5;28mself\u001b[39m\u001b[38;5;241m.\u001b[39moptimizers\n\u001b[1;32m    121\u001b[0m ]\n\u001b[1;32m    123\u001b[0m \u001b[38;5;66;03m# 经验缓冲区\u001b[39;00m\n\u001b[1;32m    124\u001b[0m \u001b[38;5;28mself\u001b[39m\u001b[38;5;241m.\u001b[39mstates \u001b[38;5;241m=\u001b[39m [[] \u001b[38;5;28;01mfor\u001b[39;00m _ \u001b[38;5;129;01min\u001b[39;00m \u001b[38;5;28mrange\u001b[39m(num_agents)]\n",
      "File \u001b[0;32m/mnt/workspace/PPO_NET.py:118\u001b[0m, in \u001b[0;36m<listcomp>\u001b[0;34m(.0)\u001b[0m\n\u001b[1;32m    114\u001b[0m \u001b[38;5;28mself\u001b[39m\u001b[38;5;241m.\u001b[39moptimizers \u001b[38;5;241m=\u001b[39m [optim\u001b[38;5;241m.\u001b[39mAdam(agent\u001b[38;5;241m.\u001b[39mparameters(), lr\u001b[38;5;241m=\u001b[39m\u001b[38;5;241m1e-4\u001b[39m) \u001b[38;5;28;01mfor\u001b[39;00m agent \u001b[38;5;129;01min\u001b[39;00m \u001b[38;5;28mself\u001b[39m\u001b[38;5;241m.\u001b[39magents]\n\u001b[1;32m    116\u001b[0m \u001b[38;5;66;03m# 自适应学习率调度器\u001b[39;00m\n\u001b[1;32m    117\u001b[0m \u001b[38;5;28mself\u001b[39m\u001b[38;5;241m.\u001b[39mschedulers \u001b[38;5;241m=\u001b[39m [\n\u001b[0;32m--> 118\u001b[0m     \u001b[43moptim\u001b[49m\u001b[38;5;241;43m.\u001b[39;49m\u001b[43mlr_scheduler\u001b[49m\u001b[38;5;241;43m.\u001b[39;49m\u001b[43mReduceLROnPlateau\u001b[49m\u001b[43m(\u001b[49m\n\u001b[1;32m    119\u001b[0m \u001b[43m        \u001b[49m\u001b[43mopt\u001b[49m\u001b[43m,\u001b[49m\u001b[43m \u001b[49m\u001b[43mmode\u001b[49m\u001b[38;5;241;43m=\u001b[39;49m\u001b[38;5;124;43m'\u001b[39;49m\u001b[38;5;124;43mmin\u001b[39;49m\u001b[38;5;124;43m'\u001b[39;49m\u001b[43m,\u001b[49m\u001b[43m \u001b[49m\u001b[43mfactor\u001b[49m\u001b[38;5;241;43m=\u001b[39;49m\u001b[38;5;241;43m0.5\u001b[39;49m\u001b[43m,\u001b[49m\u001b[43m \u001b[49m\u001b[43mpatience\u001b[49m\u001b[38;5;241;43m=\u001b[39;49m\u001b[38;5;241;43m10\u001b[39;49m\u001b[43m,\u001b[49m\u001b[43m \u001b[49m\u001b[43mverbose\u001b[49m\u001b[38;5;241;43m=\u001b[39;49m\u001b[38;5;28;43;01mTrue\u001b[39;49;00m\n\u001b[1;32m    120\u001b[0m \u001b[43m    \u001b[49m\u001b[43m)\u001b[49m \u001b[38;5;28;01mfor\u001b[39;00m opt \u001b[38;5;129;01min\u001b[39;00m \u001b[38;5;28mself\u001b[39m\u001b[38;5;241m.\u001b[39moptimizers\n\u001b[1;32m    121\u001b[0m ]\n\u001b[1;32m    123\u001b[0m \u001b[38;5;66;03m# 经验缓冲区\u001b[39;00m\n\u001b[1;32m    124\u001b[0m \u001b[38;5;28mself\u001b[39m\u001b[38;5;241m.\u001b[39mstates \u001b[38;5;241m=\u001b[39m [[] \u001b[38;5;28;01mfor\u001b[39;00m _ \u001b[38;5;129;01min\u001b[39;00m \u001b[38;5;28mrange\u001b[39m(num_agents)]\n",
      "\u001b[0;31mTypeError\u001b[0m: ReduceLROnPlateau.__init__() got an unexpected keyword argument 'verbose'"
     ]
    }
   ],
   "source": [
    "# %run DQN_NET.py\n",
    "%run PPO_NET.py"
   ]
  },
  {
   "cell_type": "code",
   "execution_count": 2,
   "id": "4c209b00-2339-4cc6-bea8-833f56c239fc",
   "metadata": {
    "execution": {
     "iopub.execute_input": "2025-07-30T13:48:10.366269Z",
     "iopub.status.busy": "2025-07-30T13:48:10.365982Z",
     "iopub.status.idle": "2025-07-30T13:48:10.368592Z",
     "shell.execute_reply": "2025-07-30T13:48:10.368105Z",
     "shell.execute_reply.started": "2025-07-30T13:48:10.366248Z"
    },
    "tags": []
   },
   "outputs": [],
   "source": [
    "# print(reward_history)"
   ]
  },
  {
   "cell_type": "code",
   "execution_count": 3,
   "id": "f97e2722-3641-43ff-9fd7-b39426bafaa0",
   "metadata": {
    "ExecutionIndicator": {
     "show": false
    },
    "execution": {
     "iopub.execute_input": "2025-07-30T13:48:10.369250Z",
     "iopub.status.busy": "2025-07-30T13:48:10.369087Z",
     "iopub.status.idle": "2025-07-30T13:48:10.375411Z",
     "shell.execute_reply": "2025-07-30T13:48:10.374941Z",
     "shell.execute_reply.started": "2025-07-30T13:48:10.369231Z"
    },
    "tags": []
   },
   "outputs": [
    {
     "name": "stdout",
     "output_type": "stream",
     "text": [
      "Using device: cuda\n"
     ]
    }
   ],
   "source": [
    "1\n",
    "import torch\n",
    "import torch.nn as nn\n",
    "import torch.nn.functional as F\n",
    "import numpy as np\n",
    "from torch.distributions import Normal\n",
    "import torch.optim as optim\n",
    "\n",
    "# 检查GPU可用性\n",
    "device = torch.device(\"cuda\" if torch.cuda.is_available() else \"cpu\")\n",
    "print(f\"Using device: {device}\")\n",
    "\n",
    "# 已有数据（保持不变）\n",
    "seed_value = 1234\n",
    "np.random.seed(seed_value)\n",
    "UNIT = 40\n",
    "MAZE_H = 8\n",
    "MAZE_W = 8\n",
    "utilization_ratios_device = 0.1\n",
    "utilization_ratios_server = 0.1\n",
    "d_flop = 1.3 * 10**12\n",
    "d_power = 20\n",
    "car_flop = 1.3 * 10**12*0.5\n",
    "car_power = 20\n",
    "e_flop = 330 * 10**12\n",
    "e_power = 450\n",
    "d_fai = 5*10**-29\n",
    "trans_v_up = 100*1024*1024/4 #553081138.4484484\n",
    "trans_v_dn = 20*1024*1024/4\n",
    "p_cm = 0.1\n",
    "num_users = 5\n",
    "# nums_data = np.array([5, 3, 4, 7, 9])  # 客户端本地数据量\n",
    "partition_point = [1, 2, 3, 4, 5, 6, 7]\n",
    "\n",
    "device_load = [0.3468e9, 0.3519e9, 2.3408e9, 2.3409e9, 5.3791e9, 9.6951e9, 12.077e9]\n",
    "server_load = [11.7321e9, 11.727e9, 9.7381e9, 9.738e9, 6.6998e9, 2.3838e9, 0.0019e9]\n",
    "exchanged_data = [2359296, 2359296, 2359296, 2359296, 1179628, 589824, 294912]\n",
    "# 转换为NumPy数组\n",
    "np_partition = np.array(partition_point)\n",
    "np_device = np.array(device_load)\n",
    "np_server = np.array(server_load)\n",
    "np_exchanged = np.array(exchanged_data)\n",
    "\n"
   ]
  },
  {
   "cell_type": "code",
   "execution_count": 4,
   "id": "265f77d5-d0ea-4a17-bd78-6ba34e6c06cb",
   "metadata": {
    "ExecutionIndicator": {
     "show": true
    },
    "execution": {
     "iopub.execute_input": "2025-07-30T13:48:10.375996Z",
     "iopub.status.busy": "2025-07-30T13:48:10.375831Z",
     "iopub.status.idle": "2025-07-30T13:48:10.381070Z",
     "shell.execute_reply": "2025-07-30T13:48:10.380604Z",
     "shell.execute_reply.started": "2025-07-30T13:48:10.375977Z"
    },
    "tags": []
   },
   "outputs": [
    {
     "name": "stdout",
     "output_type": "stream",
     "text": [
      "partition is 1:time is 0.37209284195804193, energy is 0.11774086573426576, reward is -0.1841593965034965\n",
      "partition is 2:time is 0.37224914685314686, energy is 0.11805193006993009, reward is -0.18431523776223777\n",
      "partition is 3:time is 0.43320499114219113, energy is 0.23936092167832168, reward is -0.24509027296037297\n",
      "partition is 4:time is 0.4332080559440559, energy is 0.23936702097902096, reward is -0.24509332867132866\n",
      "partition is 5:time is 0.3463198144426537, energy is 0.37967521188572173, reward is -0.252430489342778\n",
      "partition is 6:time is 0.3885997146853147, energy is 0.6204217930069931, reward is -0.3415664237762238\n",
      "partition is 7:time is 0.4166002303030303, energy is 0.7544510363636363, reward is -0.392975403030303\n"
     ]
    }
   ],
   "source": [
    "def cost_cal(num_data, server_power, partition_index):\n",
    "    partial_device = np_device[partition_index]\n",
    "    device_time = partial_device * num_data / (d_flop *utilization_ratios_device)\n",
    "\n",
    "    partial_server = np_server[partition_index]\n",
    "    server_time = partial_server * num_data / ( e_flop* utilization_ratios_server + 1e-8)\n",
    "    # print(f\"device_time is {device_time}, server_time is {server_time}, cal_time is {device_time+server_time}\")\n",
    "\n",
    "    feature = np_exchanged[partition_index]\n",
    "    trans_t_up = feature / trans_v_up * num_data\n",
    "    # print(f\"device_time is {device_time}, server_time is {server_time}, cal_time is {device_time+server_time},trans_t_up is {trans_t_up}\")\n",
    "    energy_cal = ((partial_device * d_power) / d_flop + (\n",
    "            partial_server * e_power * utilization_ratios_server) / e_flop) * num_data\n",
    "    energy_trans = num_data * p_cm * trans_t_up\n",
    "    energy = energy_cal + energy_trans\n",
    "    # print(f\"energy cal is{energy_cal}, trans is {energy_trans}\")\n",
    "    landa_trans = 1\n",
    "    time_all = device_time + server_time + landa_trans * trans_t_up\n",
    "    return time_all, energy\n",
    "\n",
    "for partition_num in range(len(partition_point)):\n",
    "    time_UAV, energy_UAV = cost_cal(3, e_power, partition_num)\n",
    "    time_car, energy_car = cost_cal(1, e_power, partition_num)\n",
    "            # total_time += time\n",
    "    reward = -(time_car+time_UAV)*0.4 - (energy_car + energy_UAV)*0.3\n",
    "    print(f\"partition is {partition_num+1}:time is {time_car+time_UAV}, energy is {energy_car + energy_UAV}, reward is {reward}\")"
   ]
  },
  {
   "cell_type": "code",
   "execution_count": 5,
   "id": "8cb4dd27-ff3c-48f4-9ec3-f4df5b240101",
   "metadata": {
    "ExecutionIndicator": {
     "show": true
    },
    "execution": {
     "iopub.execute_input": "2025-07-30T13:48:10.381728Z",
     "iopub.status.busy": "2025-07-30T13:48:10.381545Z",
     "iopub.status.idle": "2025-07-30T13:48:10.386976Z",
     "shell.execute_reply": "2025-07-30T13:48:10.386337Z",
     "shell.execute_reply.started": "2025-07-30T13:48:10.381709Z"
    },
    "tags": []
   },
   "outputs": [
    {
     "ename": "SyntaxError",
     "evalue": "illegal target for annotation (3428718563.py, line 1)",
     "output_type": "error",
     "traceback": [
      "\u001b[0;36m  Cell \u001b[0;32mIn[5], line 1\u001b[0;36m\u001b[0m\n\u001b[0;31m    partition is 1:time is 1.9258080894039906, energy is 0.49161794077949655, reward is -1.397227456660743\u001b[0m\n\u001b[0m    ^\u001b[0m\n\u001b[0;31mSyntaxError\u001b[0m\u001b[0;31m:\u001b[0m illegal target for annotation\n"
     ]
    }
   ],
   "source": [
    "partition is 1:time is 1.9258080894039906, energy is 0.49161794077949655, reward is -1.397227456660743\n",
    "partition is 2:time is 2.2242695102897714, energy is 1.0885404886116645, reward is -1.6658427060640064\n",
    "partition is 3:time is 1.287499347292466, energy is 0.8950001397391748, reward is -0.9907495570786437\n",
    "partition is 4:time is 1.5761146182108812, energy is 1.4722303973335804, reward is -1.2505032724809748\n",
    "partition is 5:time is 1.1193444552135756, energy is 1.3986900484610911, reward is -0.923410123495612\n",
    "partition is 6:time is 1.9704210430177713, energy is 3.100842385887664, reward is -1.6893789687012064\n",
    "partition is 7:time is 1.7536508800204662, energy is 3.0873020370151742, reward is -1.5362858197158435\n",
    "partition is 8:time is 2.0348815384633565, energy is 3.6497630769312583, reward is -1.7893933846174752\n",
    "\n",
    "device_time is 8.892307692307693e-07, server_time is 7.90040404040404e-10, cal_time is 8.900208096348096e-07\n",
    "device_time is 9.023076923076923e-07, server_time is 7.896969696969697e-10, cal_time is 9.030973892773892e-07\n",
    "device_time is 6.002051282051282e-06, server_time is 6.557643097643098e-10, cal_time is 6.002707046361046e-06\n",
    "device_time is 6.002307692307692e-06, server_time is 6.557575757575757e-10, cal_time is 6.002963449883449e-06\n",
    "device_time is 1.3792564102564103e-05, server_time is 4.5116498316498315e-10, cal_time is 1.3793015267547268e-05\n",
    "device_time is 2.4859230769230768e-05, server_time is 1.6052525252525252e-10, cal_time is 2.4859391294483293e-05\n",
    "device_time is 3.096666666666667e-05, server_time is 1.2794612794612793e-13, cal_time is 3.09666667946128e-05\n",
    "\n",
    "trans_t_up is 0.45\n",
    "trans_t_up is 0.45\n",
    "trans_t_up is 0.45\n",
    "trans_t_up is 0.45\n",
    "trans_t_up is 0.22499618530273438\n",
    "trans_t_up is 0.1125\n",
    "trans_t_up is 0.05625"
   ]
  },
  {
   "cell_type": "markdown",
   "id": "6ae7ca91-f20c-44e6-853c-fe9a671d6132",
   "metadata": {},
   "source": []
  },
  {
   "cell_type": "markdown",
   "id": "6a015262-460a-4754-8ca1-1b8976737e88",
   "metadata": {},
   "source": []
  }
 ],
 "metadata": {
  "kernelspec": {
   "display_name": "Python 3 (ipykernel)",
   "language": "python",
   "name": "python3"
  },
  "language_info": {
   "codemirror_mode": {
    "name": "ipython",
    "version": 3
   },
   "file_extension": ".py",
   "mimetype": "text/x-python",
   "name": "python",
   "nbconvert_exporter": "python",
   "pygments_lexer": "ipython3",
   "version": "3.10.12"
  }
 },
 "nbformat": 4,
 "nbformat_minor": 5
}
